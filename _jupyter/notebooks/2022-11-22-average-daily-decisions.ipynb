{
 "cells": [
  {
   "cell_type": "raw",
   "id": "8ce984d7-7038-4576-8243-c89cd4a969ea",
   "metadata": {
    "editable": true,
    "raw_mimetype": "",
    "slideshow": {
     "slide_type": ""
    },
    "tags": []
   },
   "source": [
    "---\n",
    "layout: article\n",
    "title: Average Daily Decisions - Binary Everywhere\n",
    "custom_css: article.css\n",
    "include_mathjax: true\n",
    "---"
   ]
  },
  {
   "cell_type": "markdown",
   "id": "4580624f-bcb4-4d3c-93be-b33c21d6bb66",
   "metadata": {},
   "source": [
    "## 35,000\n",
    "While working on a project involving [binary trees](https://en.wikipedia.org/wiki/Binary_tree) as a way to model very simple [binary decisions](https://en.wikipedia.org/wiki/Binary_decision_diagram), I began to wonder how many\n",
    "decisions on average does the average person make? A quick Google search for **\"average daily decisions\"** led to a\n",
    "number of articles touting a massive **35,000** decisions made everyday by the average person. If you feel *skeptical* about that number do not worry, [you are not alone](https://psychology.stackexchange.com/questions/17182/basis-for-we-make-35-000-decisions-a-day-statistic), but for the purpose of this blog post (which is just a vehicle for some interesting math) it works."
   ]
  },
  {
   "cell_type": "markdown",
   "id": "4a9170b1-55de-477a-be96-54135ef09542",
   "metadata": {},
   "source": [
    "## Binary Decisions\n",
    "If we assume the simplest case, where each decision has only two options and is hence binary (i.e yes/no, stay/leave, etc...), then by evaluating $2^{35000}$ we can calculate all possible combinations of average daily decisions.\n",
    "This turns out to be quite trivial in *Python* but the number generated is massive:"
   ]
  },
  {
   "cell_type": "code",
   "execution_count": null,
   "id": "1011594d-45cc-40ad-a444-290cae7ebefc",
   "metadata": {
    "editable": true,
    "execution": {
     "iopub.execute_input": "2024-05-23T00:23:25.332573Z",
     "iopub.status.busy": "2024-05-23T00:23:25.331416Z",
     "iopub.status.idle": "2024-05-23T00:23:25.355887Z",
     "shell.execute_reply": "2024-05-23T00:23:25.354507Z"
    },
    "slideshow": {
     "slide_type": ""
    },
    "tags": [
     "remove_input"
    ]
   },
   "outputs": [],
   "source": [
    "# need to increase max\n",
    "import sys\n",
    "sys.set_int_max_str_digits(11000)\n",
    "\n",
    "# now calculate and store int string\n",
    "all_combos_dec = str(2 ** 35000)\n",
    "\n",
    "# now break up string into 80 character chunks\n",
    "all_combos_chunk_gen = (all_combos_dec[i:i+50] for i in range(0, len(all_combos_dec), 60))\n",
    "\n",
    "# print lines from string\n",
    "for chunk in all_combos_chunk_gen:\n",
    "    print(chunk)"
   ]
  },
  {
   "cell_type": "markdown",
   "id": "fd34bfb5-4afc-48ea-974e-839d7435f191",
   "metadata": {},
   "source": [
    "This number has $10,537$ digits and represents all possible combinations of average daily (*binary*) decisions. Because each decision is binary, then the combination of decisions can be represented as a binary number, where the [bit-length](https://en.wikipedia.org/wiki/Bit-length) is the number of decisions (e.g. in this case $35,000$ bits). This means there is a *unique number* that describes each combination of decisions.\n",
    "\n",
    "It is easier to see the relationship between binary numbers and combinations of binary decisions when we look at a smaller number of decisions. For example, instead of $35,000$ decisions, we can look at just $4$:"
   ]
  },
  {
   "cell_type": "code",
   "execution_count": null,
   "id": "54923aba-56aa-4b19-a51f-6f13ca609648",
   "metadata": {
    "editable": true,
    "execution": {
     "iopub.execute_input": "2024-05-23T00:23:25.362236Z",
     "iopub.status.busy": "2024-05-23T00:23:25.361739Z",
     "iopub.status.idle": "2024-05-23T00:23:25.382722Z",
     "shell.execute_reply": "2024-05-23T00:23:25.381033Z"
    },
    "slideshow": {
     "slide_type": ""
    },
    "tags": [
     "remove_input"
    ]
   },
   "outputs": [],
   "source": [
    "import itertools\n",
    "from treelib import Tree\n",
    "\n",
    "class BinaryNumberTree(Tree):\n",
    "    \"\"\"Generate binary tree of all binary numbers of a certain bit-length.\"\"\"\n",
    "    def __init__(self, depth: int) -> None:\n",
    "        # call super class constructor\n",
    "        super().__init__()\n",
    "\n",
    "        # create root\n",
    "        self.create_node(\"{}\", \"\")\n",
    "\n",
    "        # loop over tree depth\n",
    "        for level in range(depth):\n",
    "            # get parent duplicate pairs\n",
    "            parent_duplicates = (\n",
    "                \"\".join(parent) for parent in itertools.product(\"01\", repeat=level) for _ in (0, 1)\n",
    "            )\n",
    "\n",
    "            # get children nodes\n",
    "            children = (\"\".join(combo) for combo in itertools.product(\"01\", repeat=level+1))\n",
    "\n",
    "            # populate tree\n",
    "            for value, (parent, child) in enumerate(zip(parent_duplicates, children)):\n",
    "                # add new node\n",
    "                self.create_node(value%2, child, parent=parent)\n",
    "\n",
    "# create bn tree of depth \"4\"\n",
    "bntree = BinaryNumberTree(4)\n",
    "\n",
    "# now show tree\n",
    "print(bntree.show(stdout=False))"
   ]
  },
  {
   "cell_type": "markdown",
   "id": "0c3582a4-ce76-4ccf-b09b-aaa9e2b53a23",
   "metadata": {},
   "source": [
    "The binary tree shown above depicts all the possible binary numbers of bit-length $4$. At the root of the tree is the *empty set*: {}. This represents the initial state where no decisions have been made yet. As we begin to move down the tree, each branch represents a choice (in this case either $0$ or $1$). If we follow the path to the end of the tree, making our *binary decisions* as we go, we eventually arrive at a unique combination: $0000$, $0001$, $0010$, $0011$, etc... So each path through the tree represents a unique combination of decisions. That combination forms a unique binary number with values from $[0, 2^4 - 1]$.\n",
    "\n",
    "As stated earlier, assuming the simplest case of two options to choose from (i.e. *binary*), then each unique combination of $35,000$ decisions has a unique number in the range $[0, 2^{35000} - 1]$. And there are $2^{35000}$ or $10,537$ of these unique numbers, and hence unique paths. So the number $2$ represents some path in this giant *hypothetical* binary tree. So does the number $2^{35000} - 1 = 10,536$."
   ]
  },
  {
   "cell_type": "markdown",
   "id": "df01dc0d-f0b1-4928-aeeb-5d2f3dfe8116",
   "metadata": {},
   "source": [
    "## Moral\n",
    "Binary numbers have a powerful role to play in a wide variety of applications. Whenever the problem involves some *binary* component (e.g. binary decisions), you can rest assured that binary numbers have some relevance. The math depicted here, while assuming the ideal situation where each decision is binary, offers us an example of how binary numbers can be used in modeling combination problems in a very compact, and elegant way."
   ]
  }
 ],
 "metadata": {
  "kernelspec": {
   "display_name": "Python 3 (ipykernel)",
   "language": "python",
   "name": "python3"
  },
  "language_info": {
   "codemirror_mode": {
    "name": "ipython",
    "version": 3
   },
   "file_extension": ".py",
   "mimetype": "text/x-python",
   "name": "python",
   "nbconvert_exporter": "python",
   "pygments_lexer": "ipython3",
   "version": "3.11.8"
  }
 },
 "nbformat": 4,
 "nbformat_minor": 5
}
