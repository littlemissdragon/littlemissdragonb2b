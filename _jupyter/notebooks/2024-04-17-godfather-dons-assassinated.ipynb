{
 "cells": [
  {
   "cell_type": "raw",
   "id": "01687d1b-1e5e-422f-a369-255da033ca47",
   "metadata": {},
   "source": [
    "---\n",
    "layout: article\n",
    "title: Decision Theory & The Godfather - Assassination of the Dons\n",
    "custom_css: article.css\n",
    "include_mathjax: true\n",
    "---"
   ]
  },
  {
   "cell_type": "markdown",
   "id": "94f143b7-4b6d-4cbc-a45d-124c66a80644",
   "metadata": {},
   "source": [
    "## Context\n",
    "In the movie [*The Godfather*](https://en.wikipedia.org/wiki/The_Godfather), the ultimate climax is Michael Corleone's decision to *assassinate all Dons of the four families*. But what exactly is the *objective advantage* and possible *disadvantage* of this decision? What follows is a [*decision-theoretic*](https://en.wikipedia.org/wiki/Decision_theory) look at the *options* available to Michael Corleone and an attempt to prove what is the most **rational** decision."
   ]
  },
  {
   "cell_type": "markdown",
   "id": "cf97d3c5-420b-456f-ab3c-e2d69893eee2",
   "metadata": {},
   "source": [
    "## Decision Matrix\n",
    "By the end of the film Michael has witnessed the sheer threat that the other heads of the five families pose to *his family*. So he has no *delusion* about what to expect from them ... he knows that he can never trust them, and that this *cold war* will continue if he does not take decisive action. His decision is ultimately clear when you consider the following [*decision matrix*](https://en.wikipedia.org/wiki/Decision_matrix):"
   ]
  },
  {
   "cell_type": "code",
   "execution_count": null,
   "id": "d580ba14-ba98-42f6-bc7d-735a780c17e4",
   "metadata": {
    "editable": true,
    "execution": {
     "iopub.execute_input": "2024-04-17T23:43:35.991061Z",
     "iopub.status.busy": "2024-04-17T23:43:35.990584Z",
     "iopub.status.idle": "2024-04-17T23:43:36.391988Z",
     "shell.execute_reply": "2024-04-17T23:43:36.391445Z"
    },
    "slideshow": {
     "slide_type": ""
    },
    "tags": [
     "remove_input"
    ]
   },
   "outputs": [],
   "source": [
    "import pandas as pd\n",
    "\n",
    "# define the decision matrix data\n",
    "data = {\n",
    "    \"Dons Attack\": [0, 0],\n",
    "    \"Dons Compromise\": [0, 1]\n",
    "}\n",
    "\n",
    "# define the strategies\n",
    "strategies = [\"Michael Compromises\", \"Michael Attacks\"]\n",
    "\n",
    "# create a DataFrame for the decision matrix\n",
    "decision_matrix = pd.DataFrame(data, index=strategies)\n",
    "\n",
    "# display\n",
    "print(decision_matrix)"
   ]
  },
  {
   "cell_type": "markdown",
   "id": "60ba74aa-67ce-450b-852a-721a706416f2",
   "metadata": {},
   "source": [
    "## The Road to Nowhere\n",
    "Out of the *two choices*, there are `4` outcomes, and $\\frac{3}{4}$ of those outcomes simply continue the current *cold war* state:\n",
    "1. Michael chooses to `compromise` and the Dons *attack*\n",
    "2. Michael chooses to `attack` and the Dons *attack*\n",
    "3. Michael chooses to `compromise` and the Dons *compromise*\n",
    "\n",
    "So far Michael has already seen the *outcomes* of two of these options: Vito Corleone (his father) attempted to compromise (prior to the beginning of the movie). And yet what came of this? The other *4 heads* attacked regardless when Vito declined to share his political connections. So what motivation does Michael have to *compromise*? To seek a *\"false peace\"*?"
   ]
  },
  {
   "cell_type": "markdown",
   "id": "b1c12e53-6d0e-45dc-9bf5-828720562941",
   "metadata": {},
   "source": [
    "## The Road Less Traveled\n",
    "Having seen the results of his father's attempts to *compromise* and seek some *\"peaceful\"* resolution Michael is not inclined to have any faith in this route. Yet, having seen the results of his brother Santino's *highly aggressive* strategy, quick to action and slow to think, Michael knows that this *other extreme* is not the answer either. Still, he knows that he must attack his enemies (in this case the Don's) and put an end to this **unending** war."
   ]
  },
  {
   "cell_type": "markdown",
   "id": "68e4cd27-94fe-4b21-9f8a-2b57e5134e26",
   "metadata": {},
   "source": [
    "## No Loose Ends\n",
    "What Michael *gambles* on is a strategy by which he can eliminate all the *heads* of the rival families. Not blindly attacking out of misplaced aggression, but rather strategically ending the dominance of his oposition. He doesn't seek war for war's sake, out of some personal need for vengeance, but rather a *guaranteed* solution. His choice is to *cut off the head of the snake* by assassinating the other *4 heads* of the families, and the traitors in his midst. Hence the final option, Michael attacks and the 4 heads compromise, has a payoff of $1$:"
   ]
  },
  {
   "cell_type": "code",
   "execution_count": null,
   "id": "6f155923-908d-4103-80a7-061b5c7b3c28",
   "metadata": {
    "editable": true,
    "execution": {
     "iopub.execute_input": "2024-04-17T23:43:36.396858Z",
     "iopub.status.busy": "2024-04-17T23:43:36.396592Z",
     "iopub.status.idle": "2024-04-17T23:43:36.400970Z",
     "shell.execute_reply": "2024-04-17T23:43:36.400304Z"
    },
    "slideshow": {
     "slide_type": ""
    },
    "tags": [
     "remove_input"
    ]
   },
   "outputs": [],
   "source": [
    "# display again\n",
    "print(decision_matrix)"
   ]
  },
  {
   "cell_type": "markdown",
   "id": "d671944c-198b-4d59-8cbb-d667509f97ef",
   "metadata": {},
   "source": [
    "By assassinating the *4 heads* (literally cutting off the head of the snake) he ensures the defeat (compromise) of his opposition."
   ]
  },
  {
   "cell_type": "markdown",
   "id": "0a08b3fd-7808-4b6f-96cc-c0c65928fa4f",
   "metadata": {},
   "source": [
    "## Moral\n",
    "Michael, having seen the results of his father's choice, and his older brother's choice, knows that he *must attack* in order to have a chance at surviving and continuing his family's legacy. But he also knows that, in order to have the highest probability of success, he must guarantee that the other 4 families are *\"defanged\"* and unable to ever threaten him or his family ever again. This is what allows him to become a more formidable *Don Corleone* than either his father or brother before him. Calculated, dispassionate, and objective are the powers that Michael Corleone wields, and in his own words: \"It’s not personal. It’s just business.\""
   ]
  }
 ],
 "metadata": {
  "kernelspec": {
   "display_name": "Python 3 (ipykernel)",
   "language": "python",
   "name": "python3"
  },
  "language_info": {
   "codemirror_mode": {
    "name": "ipython",
    "version": 3
   },
   "file_extension": ".py",
   "mimetype": "text/x-python",
   "name": "python",
   "nbconvert_exporter": "python",
   "pygments_lexer": "ipython3",
   "version": "3.11.8"
  }
 },
 "nbformat": 4,
 "nbformat_minor": 5
}
