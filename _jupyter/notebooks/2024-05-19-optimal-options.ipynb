{
 "cells": [
  {
   "cell_type": "raw",
   "id": "31fe4e06-8777-41b1-82cc-b8918964497e",
   "metadata": {},
   "source": [
    "---\n",
    "layout: article\n",
    "title: Optimal Options - Options Advantage in Practice\n",
    "custom_css: article.css\n",
    "include_mathjax: true\n",
    "---"
   ]
  },
  {
   "cell_type": "markdown",
   "id": "7252a350-6601-4791-88ef-8d5d1a975c29",
   "metadata": {},
   "source": [
    "## Considering Cost\n",
    "In our first article on the [advantage of options](https://diogenesanalytics.com/blog/2024/04/05/options-advantage) we showed that the *probability of winning at least once* $P(\\text{win})$ would increase (approaching *unity*) as the number of options $n$ went to infinity:\n",
    "\n",
    "$$\n",
    "\\lim_{n \\to \\infty} P(\\text{win}) = \\lim_{n \\to \\infty} \\left(1 - \\prod_{i=1}^{n} P(\\text{lose})_i \\right) = 1\n",
    "$$\n",
    "\n",
    "But this only applies to the *probability* and does not take into consideration *the cost* of each additional option and the *payoff* upon winning. Instead if we consider the *cost* $C$ and the *payoff/utility* $U$ of winning a single option, we then arrive at an updated version of the equation introduced in the [previous article](https://diogenesanalytics.com/blog/2024/04/05/options-advantage):\n",
    "\n",
    "$$\n",
    "E(n) = (1 - p^n)U - nC\n",
    "$$\n",
    "\n",
    "What we have now is an equation that calculates the *net expected utility* (i.e. difference between the *expected utility* $(1 - p^n)U$ and the *total options cost* $nC$)."
   ]
  },
  {
   "cell_type": "markdown",
   "id": "a43203d2-1b4d-4b09-9135-cbc98a2c6d7a",
   "metadata": {
    "editable": true,
    "slideshow": {
     "slide_type": ""
    },
    "tags": []
   },
   "source": [
    "## The \"Ideal\" Lottery\n",
    "As an example demonstration of this equation's power, let us consider an *ideal lottery* with the following criteria:\n",
    "+ $U = 20,000,000$ USD is the grand prize\n",
    "+ $C = 2$ USD is the cost per ticket\n",
    "+ $p_w = \\frac{1}{2,550,000}$ is the probability of winning $p_w$ per ticket\n",
    "\n",
    "So then what we want to know is what value of $n$ makes this advantageous (i.e. greater than zero):\n",
    "\n",
    "$$\n",
    "E(n) = (1 - \\frac{2,549,999}{2,550,000}^n) \\cdot 20,000,000 - 2n > 0\n",
    "$$"
   ]
  },
  {
   "cell_type": "code",
   "execution_count": null,
   "id": "5963872f-e005-4345-9224-d4e91e031b09",
   "metadata": {
    "editable": true,
    "execution": {
     "iopub.execute_input": "2024-05-19T22:14:22.922833Z",
     "iopub.status.busy": "2024-05-19T22:14:22.922452Z",
     "iopub.status.idle": "2024-05-19T22:14:22.933750Z",
     "shell.execute_reply": "2024-05-19T22:14:22.932509Z"
    },
    "slideshow": {
     "slide_type": ""
    },
    "tags": [
     "remove_input"
    ]
   },
   "outputs": [],
   "source": [
    "# get enum lib\n",
    "from enum import Enum\n",
    "\n",
    "# create enum for storing lottery vars\n",
    "class IdealLottery(Enum):\n",
    "    U = 20 * 10 ** 6\n",
    "    C = 2\n",
    "    p = 1.0 - (1.0 / (2.55 * 10 ** 6))"
   ]
  },
  {
   "cell_type": "code",
   "execution_count": null,
   "id": "765370a7-e972-4389-a559-70434440494d",
   "metadata": {
    "editable": true,
    "execution": {
     "iopub.execute_input": "2024-05-19T22:14:22.939583Z",
     "iopub.status.busy": "2024-05-19T22:14:22.939105Z",
     "iopub.status.idle": "2024-05-19T22:14:23.419027Z",
     "shell.execute_reply": "2024-05-19T22:14:23.418183Z"
    },
    "slideshow": {
     "slide_type": ""
    },
    "tags": [
     "remove_input"
    ]
   },
   "outputs": [],
   "source": [
    "# get libs\n",
    "import math\n",
    "from scipy.optimize import minimize_scalar\n",
    "\n",
    "# define the expected utility function\n",
    "def expected_utility(u: float, c: float, p: float, n: int) -> float:\n",
    "    \"\"\"Calculates the expected utility.\"\"\"\n",
    "    return ((1 - p**n) * u) - (n * c)\n",
    "\n",
    "def exp_util_derivative(u: float, c: float, p: float, n: int) -> float:\n",
    "    \"\"\"Calculates the derivative of the expected utility.\"\"\"\n",
    "    return (-u * (p**n) * math.log(p)) - c\n",
    "\n",
    "# create custom lottery function\n",
    "def calc_lottery(n: int, lotto: Enum) -> float:\n",
    "    \"\"\"Wrapper for lottery expected utility.\"\"\"\n",
    "    # get vars\n",
    "    U = lotto.U.value\n",
    "    C = lotto.C.value\n",
    "    p = lotto.p.value\n",
    "\n",
    "    # calculate\n",
    "    return expected_utility(U, C, p, n)\n",
    "\n",
    "def optimal_tickets() -> float:\n",
    "    \"\"\"Wrapper for lottery expected utility.\"\"\"\n",
    "    # get vars\n",
    "    U = IdealLottery.U.value\n",
    "    C = IdealLottery.C.value\n",
    "    p = IdealLottery.p.value\n",
    "\n",
    "    # define the negative of E(n) for minimization (since we're maximizing E(n))\n",
    "    def neg_exp_util(n):\n",
    "        return -expected_utility(U, C, p, n)\n",
    "    \n",
    "    # find the maximum point of E(n) using scipy.optimize.minimize_scalar\n",
    "    result = minimize_scalar(neg_exp_util, method='bounded', bounds=(1, 10000000))\n",
    "\n",
    "    # get optimal tickets\n",
    "    return int(result.x)"
   ]
  },
  {
   "cell_type": "code",
   "execution_count": null,
   "id": "fe58ed47-aa9c-42c6-805c-51e5814b757f",
   "metadata": {
    "editable": true,
    "execution": {
     "iopub.execute_input": "2024-05-19T22:14:23.423689Z",
     "iopub.status.busy": "2024-05-19T22:14:23.423385Z",
     "iopub.status.idle": "2024-05-19T22:14:24.019412Z",
     "shell.execute_reply": "2024-05-19T22:14:24.018702Z"
    },
    "slideshow": {
     "slide_type": ""
    },
    "tags": [
     "remove_input"
    ]
   },
   "outputs": [],
   "source": [
    "# get plotting libs\n",
    "import matplotlib.pyplot as plt\n",
    "\n",
    "# set the style to a dark theme\n",
    "plt.style.use(\"dark_background\")\n",
    "\n",
    "# match website background\n",
    "plt.rcParams[\"figure.facecolor\"] = \"#181818\"\n",
    "plt.rcParams[\"axes.facecolor\"] = \"#181818\"\n",
    "plt.rcParams[\"axes.edgecolor\"] = \"#181818\"\n",
    "\n",
    "# create a results dict\n",
    "results = {}\n",
    "\n",
    "# generate x/y pairs\n",
    "results[\"expected_ideal_lotto\"] = zip(*((n, calc_lottery(n, IdealLottery)) for n in range(1, 10000001, 1000)))\n",
    "\n",
    "# Create the line plot\n",
    "plt.plot(*results[\"expected_ideal_lotto\"])\n",
    "\n",
    "# get optimal tickets (n) / maximum E(n)\n",
    "optimal_n = optimal_tickets()\n",
    "maximum_E = int(expected_utility(\n",
    "    IdealLottery.U.value,\n",
    "    IdealLottery.C.value,\n",
    "    IdealLottery.p.value,\n",
    "    optimal_n\n",
    "))\n",
    "\n",
    "# plot threshold p value\n",
    "plt.axvline(x=optimal_n, color=plt.cm.viridis(0.70), linestyle=\"--\", label=f\"Optimal Tickets ({optimal_n:6,d})\")\n",
    "plt.axhline(y=maximum_E, color=plt.cm.magma(0.90), linestyle=\"--\", label=f\"Maximum E(n) ({maximum_E:6,d})\")\n",
    "\n",
    "# add titles and labels\n",
    "plt.xlabel(\"Number of Tickets (n)\")\n",
    "plt.ylabel(\"Expected Utility (E)\")\n",
    "\n",
    "# set title\n",
    "plt.suptitle(\n",
    "    \"Figure 1. Optimal Number of (Ideal) Lottery Tickets\", y=0.0001, fontsize=10\n",
    ")\n",
    "\n",
    "# displaying the plot\n",
    "plt.legend()\n",
    "plt.show()"
   ]
  },
  {
   "cell_type": "markdown",
   "id": "5af3d02f-e05c-4785-9404-23936dbb178e",
   "metadata": {},
   "source": [
    "As it turns out, this *\"ideal lottery\"* is quite advantageous, as you can see in *figure 1* above. There is even an optimal number of tickets $n$ where $E(n)$ (the expected utility) is maximized. This occurs at $n = 3,484,553$ and yields a maximum expected utility:\n",
    "\n",
    "$$\n",
    "\\begin{align*}\n",
    "    E(n) &= (1 - \\frac{2,549,999}{2,550,000}^n) \\cdot 20,000,000 - 2 \\cdot 3,484,553 \\\\\n",
    "    &\\approx 7,930,893\n",
    "\\end{align*}\n",
    "$$"
   ]
  },
  {
   "cell_type": "markdown",
   "id": "e10b6290-3529-4c97-88b3-ced0d21f8ef0",
   "metadata": {},
   "source": [
    "## The REAL Lottery\n",
    "But this is where the *\"fantasy\"* ends and the reality begins. Let us consider the same *lottery* example shown above, but this time we increase the price of each ticket $C$ to $100$ USD:\n",
    "+ $U = 20,000,000$ USD is the grand prize\n",
    "+ $C = 100$ USD is the cost per ticket\n",
    "+ $p_w = \\frac{1}{2,550,000}$ is the probability of winning $p_w$ per ticket\n",
    "\n",
    "So what would we expect to happen now?"
   ]
  },
  {
   "cell_type": "code",
   "execution_count": null,
   "id": "d7d31e57-9cd3-43b3-8a78-4eeeeaf4bcbd",
   "metadata": {
    "editable": true,
    "execution": {
     "iopub.execute_input": "2024-05-19T22:14:24.024847Z",
     "iopub.status.busy": "2024-05-19T22:14:24.024576Z",
     "iopub.status.idle": "2024-05-19T22:14:24.028537Z",
     "shell.execute_reply": "2024-05-19T22:14:24.027890Z"
    },
    "slideshow": {
     "slide_type": ""
    },
    "tags": [
     "remove_input"
    ]
   },
   "outputs": [],
   "source": [
    "# define enum for real lottery\n",
    "class RealLottery(Enum):\n",
    "    U = 20 * 10 ** 6\n",
    "    C = 100\n",
    "    p = 1.0 - (1.0 / (2.55 * 10 ** 6))"
   ]
  },
  {
   "cell_type": "code",
   "execution_count": null,
   "id": "7fafef5f-5975-493a-85de-0433ced92554",
   "metadata": {
    "editable": true,
    "execution": {
     "iopub.execute_input": "2024-05-19T22:14:24.032641Z",
     "iopub.status.busy": "2024-05-19T22:14:24.032430Z",
     "iopub.status.idle": "2024-05-19T22:14:24.170522Z",
     "shell.execute_reply": "2024-05-19T22:14:24.169877Z"
    },
    "slideshow": {
     "slide_type": ""
    },
    "tags": [
     "remove_input"
    ]
   },
   "outputs": [],
   "source": [
    "# generate x/y pairs\n",
    "results[\"expected_real_lotto\"] = zip(*((n, calc_lottery(n, RealLottery)) for n in range(1, 10)))\n",
    "\n",
    "# Create the line plot\n",
    "plt.plot(*results[\"expected_real_lotto\"])\n",
    "\n",
    "# add titles and labels\n",
    "plt.xlabel(\"Number of Tickets (n)\")\n",
    "plt.ylabel(\"Expected Utility (E)\")\n",
    "\n",
    "# set title\n",
    "plt.suptitle(\n",
    "    \"Figure 2. Real Lottery Expected Utility\", y=0.0001, fontsize=10\n",
    ")\n",
    "\n",
    "# displaying the plot\n",
    "plt.show()"
   ]
  },
  {
   "cell_type": "markdown",
   "id": "aff5f70b-4140-4cbf-a2b1-165177bd1ec9",
   "metadata": {},
   "source": [
    "What we see is that basically the *expected utility* is never going to be positive (i.e. you are *losing* instead of *winning*). Every ticket you buy costs you more than what you can *\"expect\"* to win. This is the **power** of the cost $C$ of each additional option. In the previous *\"ideal\"* lottery, it was only the lower cost of $2$ USD that made it *advantageous* to buy ANY number of tickets. Now with the price set to $100$ USD, there is no real *winning* ... only losing."
   ]
  },
  {
   "cell_type": "markdown",
   "id": "e117ff11-5670-4580-8679-34b996af43f0",
   "metadata": {},
   "source": [
    "## Moral\n",
    "While it is certainly true that buying more tickets for the *lottery* will increase your probability of winning, but it will **NOT** increase your *expected utility* and hence your profit. In fact you will be in a *worse* position after buying $n >= 1$ tickets, because you will now be $100 \\cdot n$ less wealthy. This example perfectly illustrates why only considering the *probability* of winning, and not factoring in the *utility* is an ultimately incomplete calculation. *Utility* must be considered for any situation where *advantage* is the desired calculation."
   ]
  }
 ],
 "metadata": {
  "kernelspec": {
   "display_name": "Python 3 (ipykernel)",
   "language": "python",
   "name": "python3"
  },
  "language_info": {
   "codemirror_mode": {
    "name": "ipython",
    "version": 3
   },
   "file_extension": ".py",
   "mimetype": "text/x-python",
   "name": "python",
   "nbconvert_exporter": "python",
   "pygments_lexer": "ipython3",
   "version": "3.11.8"
  }
 },
 "nbformat": 4,
 "nbformat_minor": 5
}
