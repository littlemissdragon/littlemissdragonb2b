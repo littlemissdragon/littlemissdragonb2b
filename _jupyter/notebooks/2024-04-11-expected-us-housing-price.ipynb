{
 "cells": [
  {
   "cell_type": "raw",
   "id": "59fb1541-ed1d-4682-a7a4-faebb5e6e350",
   "metadata": {},
   "source": [
    "---\n",
    "layout: article\n",
    "title: Average U.S. Housing Price - Reasoning About Expectation\n",
    "custom_css: article.css\n",
    "include_mathjax: true\n",
    "---"
   ]
  },
  {
   "cell_type": "markdown",
   "id": "35c5d8b3-20b7-4f67-97af-41409c85d9ff",
   "metadata": {},
   "source": [
    "## The Average\n",
    "As of Q2 2024, the [*average U.S. home value*](https://www.zillow.com/home-values/102001/united-states/)\n",
    "according to *Zillow* is: $\\textdollar354,179$. But what does this [*average*](https://en.wikipedia.org/wiki/Mean) really tell us? What insight about the *U.S. housing market* can we gain from this information? By itself, the average can really only give us a sense of the *central tendency* of the data: the vast majority of *U.S. housing prices* tend to cluster around this $\\textdollar354,179$ price."
   ]
  },
  {
   "cell_type": "code",
   "execution_count": null,
   "id": "7271933c-9e1d-4f2b-8de3-c53ea24afbbf",
   "metadata": {
    "editable": true,
    "execution": {
     "iopub.execute_input": "2024-04-15T16:53:36.262899Z",
     "iopub.status.busy": "2024-04-15T16:53:36.262404Z",
     "iopub.status.idle": "2024-04-15T16:53:36.278058Z",
     "shell.execute_reply": "2024-04-15T16:53:36.277183Z"
    },
    "slideshow": {
     "slide_type": ""
    },
    "tags": [
     "remove_input"
    ]
   },
   "outputs": [],
   "source": [
    "# libs for downloading US states shape files\n",
    "import pathlib\n",
    "import tempfile\n",
    "import urllib.request\n",
    "import zipfile\n",
    "\n",
    "# US state shape file URL\n",
    "shape_file_url = \"https://www2.census.gov/geo/tiger/GENZ2018/shp/cb_2018_us_state_20m.zip\"\n",
    "\n",
    "# directory to save the downloaded file\n",
    "data_dir = pathlib.Path(\"./data/geo/\")\n",
    "\n",
    "# directory to extract the contents of the ZIP file\n",
    "extract_dir = data_dir / \"cb_2018_us_state_20m\"\n",
    "\n",
    "# check for previous download\n",
    "if not extract_dir.exists():\n",
    "    # create the parent tree (incase it doesn't exist)\n",
    "    data_dir.mkdir(parents=True, exist_ok=True)\n",
    "    \n",
    "    # create a temporary directory to download the file\n",
    "    with tempfile.TemporaryDirectory() as temp_dir:\n",
    "        # filename for the downloaded ZIP file\n",
    "        zip_filename = pathlib.Path(temp_dir) / \"cb_2018_us_state_20m.zip\"\n",
    "    \n",
    "        # download the ZIP file\n",
    "        urllib.request.urlretrieve(shape_file_url, zip_filename)\n",
    "    \n",
    "        # extract the contents of the ZIP file\n",
    "        with zipfile.ZipFile(zip_filename, 'r') as zip_ref:\n",
    "            zip_ref.extractall(extract_dir)"
   ]
  },
  {
   "cell_type": "code",
   "execution_count": null,
   "id": "1efdb57a-5b81-44f5-8b38-01ba1170dfb9",
   "metadata": {
    "editable": true,
    "execution": {
     "iopub.execute_input": "2024-04-15T16:53:36.282596Z",
     "iopub.status.busy": "2024-04-15T16:53:36.282315Z",
     "iopub.status.idle": "2024-04-15T16:53:37.338931Z",
     "shell.execute_reply": "2024-04-15T16:53:37.337781Z"
    },
    "slideshow": {
     "slide_type": ""
    },
    "tags": [
     "remove_input"
    ]
   },
   "outputs": [],
   "source": [
    "# now libs for housing data\n",
    "import pandas as pd\n",
    "\n",
    "# gist URL\n",
    "housing_prices_data_url = (\n",
    "    \"https://gist.githubusercontent.com/DiogenesAnalytics/679e24616670afb65b25e96bc697940a/raw/ecebe4176c6fc0e09fc949d05c12c3abc3d0306f/housing_median_data_2024.csv\"\n",
    ")\n",
    "\n",
    "# get state housing data\n",
    "housing_price_data = pd.read_csv(housing_prices_data_url)\n",
    "\n",
    "# pull out average\n",
    "average_us_house_price = housing_price_data.at[24, \"Median home price in US$\"]\n",
    "\n",
    "# now just get median prices\n",
    "median_us_housing_prices = housing_price_data[housing_price_data[\"State or territory\"] != \"United States\"]"
   ]
  },
  {
   "cell_type": "code",
   "execution_count": null,
   "id": "def3cc97-a36d-494e-9f36-ee100e5cbd50",
   "metadata": {
    "editable": true,
    "execution": {
     "iopub.execute_input": "2024-04-15T16:53:37.343678Z",
     "iopub.status.busy": "2024-04-15T16:53:37.343364Z",
     "iopub.status.idle": "2024-04-15T16:53:37.644805Z",
     "shell.execute_reply": "2024-04-15T16:53:37.644075Z"
    },
    "slideshow": {
     "slide_type": ""
    },
    "tags": [
     "remove_input"
    ]
   },
   "outputs": [],
   "source": [
    "# now libs for combining US state housing prices and geo data\n",
    "import geopandas as gpd\n",
    "\n",
    "# get state geo data\n",
    "us_state_map = gpd.read_file(extract_dir)\n",
    "\n",
    "# get only continental states\n",
    "contiguous_us_state_map = us_state_map[~us_state_map[\"NAME\"].isin([\"Alaska\", \"Hawaii\", \"Puerto Rico\"])]"
   ]
  },
  {
   "cell_type": "code",
   "execution_count": null,
   "id": "11ac8099-8711-4763-8949-f69666327204",
   "metadata": {
    "editable": true,
    "execution": {
     "iopub.execute_input": "2024-04-15T16:53:37.648743Z",
     "iopub.status.busy": "2024-04-15T16:53:37.648519Z",
     "iopub.status.idle": "2024-04-15T16:53:38.074942Z",
     "shell.execute_reply": "2024-04-15T16:53:38.074305Z"
    },
    "slideshow": {
     "slide_type": ""
    },
    "tags": [
     "remove_input"
    ]
   },
   "outputs": [],
   "source": [
    "# change default theme\n",
    "import matplotlib.pyplot as plt\n",
    "\n",
    "# set the style to a dark theme\n",
    "plt.style.use(\"dark_background\")\n",
    "\n",
    "# match website background\n",
    "plt.rcParams[\"figure.facecolor\"] = \"#181818\"\n",
    "plt.rcParams[\"axes.facecolor\"] = \"#181818\"\n",
    "plt.rcParams[\"axes.edgecolor\"] = \"#181818\"\n",
    "\n",
    "# turn of axes\n",
    "plt.axis(\"off\")\n",
    "\n",
    "# set title\n",
    "plt.suptitle(\n",
    "    \"Figure 1. Choropleth Map of Median U.S. Housing Prices (2024)\", y=0.05, fontsize=10)\n",
    "\n",
    "# finally merge ...\n",
    "state_map_w_prices = contiguous_us_state_map.merge(\n",
    "    median_us_housing_prices,\n",
    "    how=\"left\",\n",
    "    left_on=\"NAME\",\n",
    "    right_on=\"State or territory\",\n",
    ")\n",
    "\n",
    "# ... and plot\n",
    "state_map_w_prices.plot(\n",
    "    ax=plt.gca(),\n",
    "    cmap=\"viridis\",\n",
    "    column=\"Median home price in US$\",\n",
    "    legend=True,\n",
    "    legend_kwds={\"label\": \"USD\", \"orientation\": \"horizontal\"},\n",
    ");"
   ]
  },
  {
   "cell_type": "code",
   "execution_count": null,
   "id": "d588a069-2a10-4cfb-a64c-cb1695240580",
   "metadata": {
    "editable": true,
    "execution": {
     "iopub.execute_input": "2024-04-15T16:53:38.079682Z",
     "iopub.status.busy": "2024-04-15T16:53:38.079431Z",
     "iopub.status.idle": "2024-04-15T16:53:38.216007Z",
     "shell.execute_reply": "2024-04-15T16:53:38.215354Z"
    },
    "slideshow": {
     "slide_type": ""
    },
    "tags": [
     "remove_input"
    ]
   },
   "outputs": [],
   "source": [
    "# plot histogram\n",
    "median_us_housing_prices[\n",
    "    \"Median home price in US$\"\n",
    "].hist(bins=30, color=plt.cm.viridis(0.55), edgecolor=\"#181818\")\n",
    "plt.axvline(average_us_house_price, color='red', linestyle='--', linewidth=2, label=\"Average\")\n",
    "plt.legend()\n",
    "plt.grid(False)\n",
    "plt.gca().yaxis.set_visible(False)\n",
    "plt.xlabel(\"USD\")\n",
    "plt.suptitle(\n",
    "    \"Figure 2. Histogram of Median U.S. Housing Prices (2024)\", y=0.05, fontsize=10\n",
    ")\n",
    "plt.subplots_adjust(bottom=0.17)\n",
    "plt.show();"
   ]
  },
  {
   "cell_type": "markdown",
   "id": "4870facb-c0d0-48a3-92aa-4b5a10981cf2",
   "metadata": {},
   "source": [
    "But what can it tell us about the *probability* that a house for sale in the U.S. market will have a given price (or fall within a certain *price range*)? Or that a given price *deviates significantly* from the average?"
   ]
  },
  {
   "cell_type": "markdown",
   "id": "41b19158-1244-4328-8eea-5b7a386557a2",
   "metadata": {},
   "source": [
    "## Normal Distribution\n",
    "As seen in figures 1 and 2 above, which use [*median U.S. housing price data from Wikipedia*](https://en.wikipedia.org/wiki/List_of_U.S._states_by_median_home_price), the average can really only give us a sense of the *central tendency* as mentioned before. To be able to answer questions related to *probabibility* we must create a [normal distribution](https://en.wikipedia.org/wiki/Normal_distribution)."
   ]
  },
  {
   "cell_type": "code",
   "execution_count": null,
   "id": "ae7f3700-0261-4a41-9ab2-4c604e0978c6",
   "metadata": {
    "editable": true,
    "execution": {
     "iopub.execute_input": "2024-04-15T16:53:38.219462Z",
     "iopub.status.busy": "2024-04-15T16:53:38.219273Z",
     "iopub.status.idle": "2024-04-15T16:53:38.638027Z",
     "shell.execute_reply": "2024-04-15T16:53:38.637347Z"
    },
    "slideshow": {
     "slide_type": ""
    },
    "tags": [
     "remove_input"
    ]
   },
   "outputs": [],
   "source": [
    "# libs for generating the distribution\n",
    "import numpy as np\n",
    "from scipy.stats import norm\n",
    "\n",
    "# get mean and standard dev\n",
    "mu, std = norm.fit(median_us_housing_prices[\"Median home price in US$\"])\n",
    "\n",
    "# create evenly spaced (x-axis) data in housing prices range\n",
    "lin_prices = np.linspace(\n",
    "    median_us_housing_prices[\"Median home price in US$\"].min(),\n",
    "    median_us_housing_prices[\"Median home price in US$\"].max(), \n",
    "    100,\n",
    ")\n",
    "\n",
    "# get the probabilities for (y-axis) for distribution\n",
    "probabilities = norm.pdf(lin_prices, mu, std)\n",
    "\n",
    "# plot\n",
    "plt.plot(lin_prices, probabilities, linewidth=2, color=plt.cm.viridis(0.74))\n",
    "plt.xlabel(\"USD\")\n",
    "plt.grid(False)\n",
    "plt.suptitle(\n",
    "    \"Figure 3. Normal Distribution of Median U.S. Housing Prices (2024)\", y=0.05, fontsize=10\n",
    ")\n",
    "plt.subplots_adjust(bottom=0.17)\n",
    "plt.gca().yaxis.set_visible(False)\n",
    "plt.show()"
   ]
  },
  {
   "cell_type": "markdown",
   "id": "f455c48d-f274-4171-9fd4-90b0ccacf6a3",
   "metadata": {},
   "source": [
    "Figure 3 above shows the *normal distribution* of the 2024 *median U.S. housing prices* by state. It is generated by the following equation:\n",
    "\n",
    "$$\n",
    "f(x) = \\frac{1}{\\sigma\\sqrt{2\\pi}} e^{-\\frac{1}{2}\\left(\\frac{x-\\mu}{\\sigma}\\right)^2}\n",
    "$$\n",
    "\n",
    "Since the distribution is generated from the [*median*](https://en.wikipedia.org/wiki/Median) U.S. housing prices, the distribution is mising the *lower end* housing price values.\n",
    "\n",
    "With this distribution, we can begin to *estimate* the probability of *seeing a given range of prices*. For example, what if we wanted to know the probability of seeing a house in the U.S. listed in the range $[\\textdollar200,000 - \\textdollar300,000]$? What we want to know is actually the *area* under the normal distribution."
   ]
  },
  {
   "cell_type": "code",
   "execution_count": null,
   "id": "ba3cf0e0-4f0f-4322-a837-62327568c609",
   "metadata": {
    "editable": true,
    "execution": {
     "iopub.execute_input": "2024-04-15T16:53:38.642847Z",
     "iopub.status.busy": "2024-04-15T16:53:38.642600Z",
     "iopub.status.idle": "2024-04-15T16:53:38.734600Z",
     "shell.execute_reply": "2024-04-15T16:53:38.733946Z"
    },
    "slideshow": {
     "slide_type": ""
    },
    "tags": [
     "remove_input"
    ]
   },
   "outputs": [],
   "source": [
    "# define a few utility functions\n",
    "def between_bounds(lower: int, upper: int) -> bool:\n",
    "    \"\"\"Uses previously computed linear housing price data to find sub range.\"\"\"\n",
    "    return (lin_prices >= lower) & (lin_prices <= upper)\n",
    "\n",
    "def probability_range(lower: int, upper: int) -> float:\n",
    "    \"\"\"Uses previously calculated mean and standard dev to find probability of a range.\"\"\"        \n",
    "    return norm.cdf(upper, mu, std) - norm.cdf(lower, mu, std)\n",
    "\n",
    "# create initial plot\n",
    "plt.plot(lin_prices, probabilities, linewidth=2, color=plt.cm.viridis(0.74))\n",
    "\n",
    "# fill in shaded area\n",
    "shaded_region = plt.fill_between(\n",
    "    lin_prices,\n",
    "    0,\n",
    "    probabilities,\n",
    "    where=between_bounds(2 * 10**5, 3 * 10**5),\n",
    "    color='orange',\n",
    "    alpha=0.5\n",
    ")\n",
    "\n",
    "# get coordinates of shaded region\n",
    "(x0, y0), (x1, y1) = shaded_region.get_paths()[0].get_extents().get_points()\n",
    "\n",
    "# add text to shaded region\n",
    "plt.text(\n",
    "    (x0 + x1) / 2, \n",
    "    (y0 + y1) / 2,\n",
    "    f\"{probability_range(2 * 10**5, 3 * 10**5):.2%}\", \n",
    "    ha='center',\n",
    "    va='center',\n",
    "    fontsize=8\n",
    ")\n",
    "\n",
    "# label, adjust, title, and show plot\n",
    "plt.xlabel(\"USD\")\n",
    "plt.grid(False)\n",
    "plt.suptitle(\n",
    "    \"Figure 4. Probability of a \\$200k to \\$300k House (2024)\", y=0.05, fontsize=10\n",
    ")\n",
    "plt.subplots_adjust(bottom=0.17)\n",
    "plt.gca().yaxis.set_visible(False)\n",
    "plt.show()"
   ]
  },
  {
   "cell_type": "markdown",
   "id": "b23075bc-3cef-4b96-94fb-31821bc9e7f7",
   "metadata": {},
   "source": [
    "As figure 4 indicates, you have a $20.45\\%$ or a $\\sim\\frac{1}{5}$ *probability* of encountering a house priced in the range $[\\textdollar200,000 - \\textdollar300,000]$ within the U.S."
   ]
  },
  {
   "cell_type": "markdown",
   "id": "e20a297a-0f94-475a-87a3-009aa358ad59",
   "metadata": {},
   "source": [
    "## Return of the Average\n",
    "Now we are ready to actually begin to think about what the *average* means. As it turns out the average IS the value where, $50\\%$ of the population is less than this value, and $50\\%$ of the population is greater than this value."
   ]
  },
  {
   "cell_type": "code",
   "execution_count": null,
   "id": "d2cfb745-7ad9-4956-a2a6-4df3ef1dc835",
   "metadata": {
    "editable": true,
    "execution": {
     "iopub.execute_input": "2024-04-15T16:53:38.738900Z",
     "iopub.status.busy": "2024-04-15T16:53:38.738696Z",
     "iopub.status.idle": "2024-04-15T16:53:38.845668Z",
     "shell.execute_reply": "2024-04-15T16:53:38.844991Z"
    },
    "slideshow": {
     "slide_type": ""
    },
    "tags": [
     "remove_input"
    ]
   },
   "outputs": [],
   "source": [
    "# create initial plot\n",
    "plt.plot(lin_prices, probabilities, linewidth=2, color=plt.cm.viridis(0.74))\n",
    "\n",
    "# add the average\n",
    "plt.axvline(mu, color=plt.cm.viridis(0.35), linestyle=\"--\", linewidth=2, label=\"Average\")\n",
    "\n",
    "# fill in shaded area\n",
    "shaded_region = plt.fill_between(\n",
    "    lin_prices,\n",
    "    0,\n",
    "    probabilities,\n",
    "    where=between_bounds(0, lin_prices.max()),\n",
    "    color='orange',\n",
    "    alpha=0.5\n",
    ")\n",
    "\n",
    "\n",
    "# add text to shaded region\n",
    "plt.text(\n",
    "    (mu - 100000), \n",
    "    (y0 + y1) / 2,\n",
    "    f\"{probability_range(0, mu):.2%}\", \n",
    "    ha='center',\n",
    "    va='center',\n",
    "    fontsize=8\n",
    ")\n",
    "\n",
    "# add text to shaded region\n",
    "plt.text(\n",
    "    (mu + 100000), \n",
    "    (y0 + y1) / 2,\n",
    "    f\"{probability_range(mu, lin_prices.max()):.2%}\", \n",
    "    ha='center',\n",
    "    va='center',\n",
    "    fontsize=8\n",
    ")\n",
    "\n",
    "# label, adjust, title, and show plot\n",
    "plt.xlabel(\"USD\")\n",
    "plt.grid(False)\n",
    "plt.suptitle(\n",
    "    \"Figure 5. The Interpretation of the Average U.S. Housing Price (2024)\", y=0.05, fontsize=10\n",
    ")\n",
    "plt.subplots_adjust(bottom=0.17)\n",
    "plt.gca().yaxis.set_visible(False)\n",
    "plt.legend()\n",
    "plt.show()"
   ]
  },
  {
   "cell_type": "markdown",
   "id": "df05cb53-32f2-4b53-8a23-ab97a3313dfb",
   "metadata": {},
   "source": [
    "Basically, half the time when searching housing prices in the U.S. you will encounter a price *below* the average (i.e. about $\\textdollar354,179$), and half the time the price will be *above* the average. This can be useful as a *high-level* view of a distribution, but it cannot tell us what price can truly be *expected*."
   ]
  },
  {
   "cell_type": "markdown",
   "id": "204c529f-1c5d-4e3b-bb62-23e9fbc7add8",
   "metadata": {},
   "source": [
    "## Expected Price\n",
    "The truth about the [*expected*](https://en.wikipedia.org/wiki/Expected_value) price is simply that it only makes sense to consider a *range of prices*. For example, does any **potential buyer** care about finding a house priced at *exactly* $\\textdollar300,000$? What about $\\textdollar300,100$ or $\\textdollar299,900$? So again we must turn to the *normal distribution* to satisfy our query: what is the range of prices we can expect in the U.S. housing market?"
   ]
  },
  {
   "cell_type": "code",
   "execution_count": null,
   "id": "f3b36aa2-837b-4e06-b879-36e6375884a5",
   "metadata": {
    "editable": true,
    "execution": {
     "iopub.execute_input": "2024-04-15T16:53:38.850010Z",
     "iopub.status.busy": "2024-04-15T16:53:38.849815Z",
     "iopub.status.idle": "2024-04-15T16:53:38.940810Z",
     "shell.execute_reply": "2024-04-15T16:53:38.940182Z"
    },
    "slideshow": {
     "slide_type": ""
    },
    "tags": [
     "remove_input"
    ]
   },
   "outputs": [],
   "source": [
    "# create initial plot\n",
    "plt.plot(lin_prices, probabilities, linewidth=2, color=plt.cm.viridis(0.74))\n",
    "\n",
    "# fill in shaded area\n",
    "shaded_region = plt.fill_between(\n",
    "    lin_prices,\n",
    "    0,\n",
    "    probabilities,\n",
    "    where=between_bounds(mu - std, mu + std),\n",
    "    color='orange',\n",
    "    alpha=0.5\n",
    ")\n",
    "\n",
    "# get coordinates of shaded region\n",
    "(x0, y0), (x1, y1) = shaded_region.get_paths()[0].get_extents().get_points()\n",
    "\n",
    "# add text to shaded region\n",
    "plt.text(\n",
    "    (x0 + x1) / 2, \n",
    "    (y0 + y1) / 2,\n",
    "    f\"{probability_range(mu - std, mu + std):.2%}\", \n",
    "    ha='center',\n",
    "    va='center',\n",
    "    fontsize=8\n",
    ")\n",
    "\n",
    "# label, adjust, title, and show plot\n",
    "plt.xlabel(\"USD\")\n",
    "plt.grid(False)\n",
    "plt.suptitle(\n",
    "    \"Figure 5. One Standard Deviation from the Average\\nMedian U.S. Housing Price (2024)\", y=0.05, fontsize=10\n",
    ")\n",
    "plt.subplots_adjust(bottom=0.17)\n",
    "plt.gca().yaxis.set_visible(False)\n",
    "plt.show()"
   ]
  },
  {
   "cell_type": "markdown",
   "id": "80975819-6e81-482c-bcc0-cf2dd9735388",
   "metadata": {},
   "source": [
    "What figure 5 shows, is that we can expect to see $68\\%$ or $\\sim\\frac{2}{3}$ of the houses listed in the *U.S. housing market* will have a price in the range $[\\textdollar200,000 - \\textdollar500,000]$. This is the *lion's share* of the market, with the remaining $32\\%$ or $\\sim\\frac{1}{3}$ of the market containing houses listed with price below $\\textdollar200,000$ or above $\\textdollar500,000$."
   ]
  },
  {
   "cell_type": "markdown",
   "id": "5c56774e-be50-4f6e-ae6d-0223ddfae985",
   "metadata": {},
   "source": [
    "## Moral\n",
    "The *average* (i.e. $\\textdollar354,179$) is not a good representation of the *expected* value that a **potential buyer** will encounter. Instead, a better representation of what to expect is the $68\\%$ or $\\sim\\frac{2}{3}$ probability that a house listed in the *U.S. housing market* will have a price in the range $[\\textdollar200,000 - \\textdollar500,000]$. The average is best understood as a *condensed* estimate of where values *cluster* (i.e. around $\\textdollar354,179$). It is a *high-level* view of the population, but without the *standard deviation* it cannot be used to reason about the values that will be obtained [*empirically*](https://en.wikipedia.org/wiki/Empirical_research)."
   ]
  }
 ],
 "metadata": {
  "kernelspec": {
   "display_name": "Python 3 (ipykernel)",
   "language": "python",
   "name": "python3"
  },
  "language_info": {
   "codemirror_mode": {
    "name": "ipython",
    "version": 3
   },
   "file_extension": ".py",
   "mimetype": "text/x-python",
   "name": "python",
   "nbconvert_exporter": "python",
   "pygments_lexer": "ipython3",
   "version": "3.11.8"
  }
 },
 "nbformat": 4,
 "nbformat_minor": 5
}
