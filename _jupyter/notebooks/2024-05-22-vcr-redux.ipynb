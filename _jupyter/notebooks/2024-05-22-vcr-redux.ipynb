{
 "cells": [
  {
   "cell_type": "raw",
   "id": "3a095a8b-7943-4d1b-8a96-5f9a68370e4a",
   "metadata": {},
   "source": [
    "---\n",
    "layout: article\n",
    "title: VCR Redux - Net Expected Utility Derivative\n",
    "custom_css: article.css\n",
    "include_mathjax: true\n",
    "---"
   ]
  },
  {
   "cell_type": "markdown",
   "id": "5f481218-ecbe-49e4-8e62-548593f440e1",
   "metadata": {},
   "source": [
    "## Recap\n",
    "In the [previous article](https://diogenesanalytics.com/blog/2024/05/20/value-cost-ratio) the `VCR` (*value/cost* ratio) was introduced as a way to determine when potential *investment scenarios* are favorable (i.e. you can actually *gain* more utility by winning than what it *costs to play*). The example *scenario* was the [lottery](https://diogenesanalytics.com/blog/2024/05/19/optimal-options), and it was suggested that a $\\text{vcr} > 1$ *could be favorable*. The key word there is **could**. In fact what we saw in the [previous article](https://diogenesanalytics.com/blog/2024/05/20/value-cost-ratio) suggested that you actually need to know if the *net expected utility* $E(n)$ will be increasing *or* decreasing to really know if it is favorable to play (see below for $E(n)$ equation):\n",
    "\n",
    "$$\n",
    "E(n) = (1 - p^n)U - nC\n",
    "$$\n",
    "\n",
    "If $E(n)$ was increasing from $n = 1$ onward, then it was possible to increase your *net expected utility* by playing repeated trials of the game (e.g. in the *lottery* scenario this meant buying *more tickets*, as each ticket represented a repeated play of the game). If $E(n)$ decreased, then the *highest* possible *net expected utility* could only be achieved at $n = 1$."
   ]
  },
  {
   "cell_type": "markdown",
   "id": "6346d27a-450a-4b89-8a05-f13dc613ba10",
   "metadata": {},
   "source": [
    "## The Derivative\n",
    "To state this more plainly, if the first derivative of $E(n)$ is positive, then it should ultimately be *favorable*:\n",
    "\n",
    "$$\n",
    "\\frac{dE(n)}{dn} > 0\n",
    "$$\n",
    "\n",
    "Else if the first derivative of $E(n)$ is negative, it should **not** be favorable:\n",
    "\n",
    "$$\n",
    "\\frac{dE(n)}{dn} < 0\n",
    "$$\n",
    "\n",
    "And the actual first derivative of the $E(n)$ equation:\n",
    "\n",
    "$$\n",
    "\\frac{dE(n)}{dn} = -p^n \\ln(p) U - C\n",
    "$$\n",
    "\n",
    "And substituting for the first derivative equation and rearranging we have a *favorable* outcome:\n",
    "\n",
    "$$\n",
    "\\frac{-p^n \\ln(p) U}{C} > 1\n",
    "$$\n",
    "\n",
    "And a *not favorable* outcome:\n",
    "\n",
    "$$\n",
    "\\frac{-p^n \\ln(p) U}{C} < 1\n",
    "$$"
   ]
  },
  {
   "cell_type": "markdown",
   "id": "bcce4114-cd8c-46f8-be5f-7849f494129f",
   "metadata": {},
   "source": [
    "## Retry\n",
    "Now let us attempt to *retry* the previous *example investment data* from the [previous article](https://diogenesanalytics.com/blog/2024/05/19/optimal-options) and see what happens:"
   ]
  },
  {
   "cell_type": "code",
   "execution_count": null,
   "id": "661ca363-91c7-45fc-9ee4-6c5c6069dea0",
   "metadata": {
    "editable": true,
    "execution": {
     "iopub.execute_input": "2024-05-23T23:28:09.604972Z",
     "iopub.status.busy": "2024-05-23T23:28:09.604428Z",
     "iopub.status.idle": "2024-05-23T23:28:09.628966Z",
     "shell.execute_reply": "2024-05-23T23:28:09.627565Z"
    },
    "slideshow": {
     "slide_type": ""
    },
    "tags": [
     "remove_input"
    ]
   },
   "outputs": [],
   "source": [
    "# libs\n",
    "import random\n",
    "from typing import Generator\n",
    "from typing import Tuple\n",
    "\n",
    "# seed rng\n",
    "random.seed(42)\n",
    "\n",
    "# select random number from partitions\n",
    "def gen_partition_ranges(start: int, end: int, partitions: int) -> Generator[Tuple[float, float], None, None]:\n",
    "    \"\"\"Generate sub-ranges from partitions of a given range.\"\"\"    \n",
    "    # calculate partition sizes with a shifted distribution\n",
    "    partition_sizes = [((i + 1) ** 2) for i in range(partitions)]\n",
    "    total_partition_size = sum(partition_sizes)\n",
    "\n",
    "    # adjust partition sizes to fit the range\n",
    "    normal_partition_sizes = [size / total_partition_size * (end - start) for size in partition_sizes]\n",
    "\n",
    "    # begin iterating over partitions\n",
    "    for partition, partition_size in enumerate(normal_partition_sizes):\n",
    "        # calculate partition bounds\n",
    "        partition_start = start + partition * partition_size\n",
    "        partition_end = partition_start + partition_size\n",
    "\n",
    "        # generate i-th partition range\n",
    "        yield partition_start, partition_end\n",
    "\n",
    "def gen_random_partition(start: int, end: int, partitions: int) -> Generator[Tuple[float, float], None, None]:\n",
    "    \"\"\"Generate random numbers from partitions of a given range.\"\"\"\n",
    "    # loop over partition\n",
    "    for start, end in gen_partition_ranges(start, end, partitions):\n",
    "        # get random float\n",
    "        yield random.uniform(start, end)\n",
    "\n",
    "# func for U/C/p pairs\n",
    "def gen_investments(partitions: int) -> Generator[Tuple[float, float, float], None, None]:\n",
    "    \"\"\"Generate pairs of U/C/p values.\"\"\"    \n",
    "    # get random partition samples for U/C\n",
    "    uc_random_samples = list(gen_random_partition(1, 1e7, partitions))\n",
    "    \n",
    "    # loop until U > C\n",
    "    while True:        \n",
    "        # generate U and C as positive non-zero integers\n",
    "        U = int(random.choice(uc_random_samples))\n",
    "        C = int(random.choice(uc_random_samples))\n",
    "        \n",
    "        # termination condition\n",
    "        if U > C:\n",
    "            break\n",
    "\n",
    "    # get random partition samples for p\n",
    "    p_random_samples = list(gen_random_partition(1e-6, 1 - 1e-6, partitions))\n",
    "    \n",
    "    # generate 0 < p < 1\n",
    "    p = random.choice(p_random_samples)\n",
    "\n",
    "    # check if greater than 1\n",
    "    p = p if p < 1 else 1 / p\n",
    "\n",
    "    # get U/C/p pair\n",
    "    return U, C, p"
   ]
  },
  {
   "cell_type": "code",
   "execution_count": null,
   "id": "2f46d6c5-24d5-4926-9070-cee8d0701e5b",
   "metadata": {
    "editable": true,
    "execution": {
     "iopub.execute_input": "2024-05-23T23:28:09.635044Z",
     "iopub.status.busy": "2024-05-23T23:28:09.634558Z",
     "iopub.status.idle": "2024-05-23T23:28:09.644569Z",
     "shell.execute_reply": "2024-05-23T23:28:09.643350Z"
    },
    "slideshow": {
     "slide_type": ""
    },
    "tags": [
     "remove_input"
    ]
   },
   "outputs": [],
   "source": [
    "# get lib for log\n",
    "import math\n",
    "\n",
    "# define functions\n",
    "def expected_utility(U: float, C: float, p: float, n: int) -> float:\n",
    "    \"\"\"Calculates the expected utility.\"\"\"\n",
    "    return ((1 - p**n) * U) - (n * C)\n",
    "    \n",
    "def derivative_net_expect_utility(U: float, C: float, p: float, n: int) -> float:\n",
    "    \"\"\"Calculates the derivative of the expected utility.\"\"\"\n",
    "    return (-U * (p**n) * math.log(p)) - C\n",
    "    \n",
    "def new_vcr(U: float, C: float, p: float, n: int) -> float:\n",
    "    \"\"\"Calculates the new value/cost ratio.\"\"\"\n",
    "    return (-(p**n) * math.log(p) * U) / C"
   ]
  },
  {
   "cell_type": "code",
   "execution_count": null,
   "id": "42e04a81-ed68-4d4a-9f05-ee35a299d9e3",
   "metadata": {
    "editable": true,
    "execution": {
     "iopub.execute_input": "2024-05-23T23:28:09.650496Z",
     "iopub.status.busy": "2024-05-23T23:28:09.649986Z",
     "iopub.status.idle": "2024-05-23T23:28:10.098327Z",
     "shell.execute_reply": "2024-05-23T23:28:10.097752Z"
    },
    "slideshow": {
     "slide_type": ""
    },
    "tags": [
     "remove_input"
    ]
   },
   "outputs": [],
   "source": [
    "# get libs\n",
    "import pandas as pd\n",
    "\n",
    "# generate example investments\n",
    "example_investments = [gen_investments(1000) for _ in range(20)]\n",
    "\n",
    "# create table\n",
    "example_investments_table = pd.DataFrame(example_investments, columns=[\"U\", \"C\", \"p\"])\n",
    "\n",
    "# set index name\n",
    "example_investments_table.index.name = \"id\"\n",
    "\n",
    "# add new column for E(n) (evaluated at n = 1)\n",
    "example_investments_table[\"E(n)\"] = example_investments_table.apply(\n",
    "    lambda row: expected_utility(row[\"U\"], row[\"C\"], row[\"p\"], 1),\n",
    "    axis=1\n",
    ")\n",
    "\n",
    "# add new column for dE(n) (evaluated at n = 1)\n",
    "example_investments_table[\"dE/dn\"] = example_investments_table.apply(\n",
    "    lambda row: derivative_net_expect_utility(row[\"U\"], row[\"C\"], row[\"p\"], 1),\n",
    "    axis=1\n",
    ")\n",
    "\n",
    "# add new colum for dVCR (evaluated at n = 1)\n",
    "example_investments_table[\"vcr_redux\"] = example_investments_table.apply(\n",
    "    lambda row: new_vcr(row[\"U\"], row[\"C\"], row[\"p\"], 1),\n",
    "    axis=1\n",
    ")"
   ]
  },
  {
   "cell_type": "code",
   "execution_count": null,
   "id": "652aa9e7-bd03-406a-ae83-01ce7136dc83",
   "metadata": {
    "editable": true,
    "execution": {
     "iopub.execute_input": "2024-05-23T23:28:10.102116Z",
     "iopub.status.busy": "2024-05-23T23:28:10.101842Z",
     "iopub.status.idle": "2024-05-23T23:28:10.856445Z",
     "shell.execute_reply": "2024-05-23T23:28:10.855757Z"
    },
    "slideshow": {
     "slide_type": ""
    },
    "tags": [
     "remove_input"
    ]
   },
   "outputs": [],
   "source": [
    "# get plotting libs\n",
    "import matplotlib.pyplot as plt\n",
    "\n",
    "# set the style to a dark theme\n",
    "plt.style.use(\"dark_background\")\n",
    "\n",
    "# match website background\n",
    "plt.rcParams[\"figure.facecolor\"] = \"#181818\"\n",
    "plt.rcParams[\"axes.facecolor\"] = \"#181818\"\n",
    "plt.rcParams[\"axes.edgecolor\"] = \"#181818\"\n",
    "\n",
    "# pointer to long example investment table name\n",
    "eit = example_investments_table\n",
    "\n",
    "# create dictionary for favorability groups\n",
    "favorable_groups = {\n",
    "    \"Not Favorable\": eit[\"vcr_redux\"] < 1,\n",
    "    \"Favorable\": eit[\"vcr_redux\"] > 1,\n",
    "}\n",
    "\n",
    "# loop through favorable groups\n",
    "for fig_num, (key, mask) in enumerate(favorable_groups.items()):\n",
    "    # get sub data frame\n",
    "    sub_data_frame = eit[mask]\n",
    "    \n",
    "    # loop over rows\n",
    "    for idx, row in sub_data_frame.iterrows():\n",
    "        # get values\n",
    "        U = row[\"U\"]\n",
    "        C = row[\"C\"]\n",
    "        p = row[\"p\"]\n",
    "        \n",
    "        # generate x/y pairs\n",
    "        x_values, y_values = zip(*((n, expected_utility(U, C, p, n)) for n in range(1, 11)))\n",
    "    \n",
    "        # create the line plot\n",
    "        plt.plot(x_values, y_values, label=idx)\n",
    "\n",
    "    # add titles and labels\n",
    "    plt.xlabel(\"Number of Options (n)\")\n",
    "    plt.ylabel(\"Expected Utility (E)\")\n",
    "    \n",
    "    # set title\n",
    "    plt.suptitle(\n",
    "        f\"Figure {fig_num + 1}. Optimal Number for {key!r} Investments\", y=0.0001, fontsize=10\n",
    "    )\n",
    "\n",
    "    # now show\n",
    "    plt.legend(title=\"id#\")\n",
    "    plt.show()"
   ]
  },
  {
   "cell_type": "markdown",
   "id": "65ca5a7b-c5f0-42cc-8c76-fc689cec72d9",
   "metadata": {},
   "source": [
    "The two figures above show the results of using the *new VCR* equation based on $\\frac{dE(n)}{dn}$ (shown below):\n",
    "\n",
    "$$\n",
    "\\frac{-p^n \\ln(p) U}{C}\n",
    "$$\n",
    "\n",
    "This *new VCR equation* works extremely well to indicate which *investments* are favorable, not just in terms of having a *positive net expected utility* but also having an *optimal options* value $n$. In truth one could simply just use the $\\frac{dE(n)}{dn}$ equation evaluated at $n = 1$ to make the same judgement (this can be seen in the table below, where all values *E(n)*, *dE/dn*, and *vcr_redux* are evaluated at $n = 1$)."
   ]
  },
  {
   "cell_type": "code",
   "execution_count": null,
   "id": "9909ea5d-747a-4bef-af37-c0bc6fca8ffa",
   "metadata": {
    "editable": true,
    "execution": {
     "iopub.execute_input": "2024-05-23T23:28:10.861130Z",
     "iopub.status.busy": "2024-05-23T23:28:10.860869Z",
     "iopub.status.idle": "2024-05-23T23:28:10.868927Z",
     "shell.execute_reply": "2024-05-23T23:28:10.868266Z"
    },
    "slideshow": {
     "slide_type": ""
    },
    "tags": [
     "remove_input"
    ]
   },
   "outputs": [],
   "source": [
    "# print table\n",
    "print(example_investments_table.to_string())"
   ]
  },
  {
   "cell_type": "markdown",
   "id": "eb7bd9c6-fd3e-4b70-879e-3216e2e3a42d",
   "metadata": {},
   "source": [
    "Notice how in the above table, everywhere that `dE/dn` $< 0$ the `vcr_redux` $< 1$? Again, you can simply use the $\\frac{dE(n)}{dn}$ equation evaluated at $n = 1$ to get the same results as the *new VCR equation* (`vcr_redux`). Also notice that everywhere that $E(n)$ (evaluated at $n = 1$) is *negative* in the above table, the corresponding $\\frac{dE(n)}{dn}$ is also negative."
   ]
  },
  {
   "cell_type": "markdown",
   "id": "4606a23d-ddfe-4453-acfe-d7508b1410e9",
   "metadata": {},
   "source": [
    "## Moral\n",
    "As it turns out, a little *calculus* can tell us *a lot* about what a *function* is doing. In this specific application, it allows us to determine when a specific set of *U*, *C*, and *p* values not only yield a *positive net expected utility* (i.e. $E(n) > 0$) but whether this particular *investment* has a maximum value somewhere in the range $n > 0$ (meaning that there is possibility for purchasing $n >=1$ *options* to increase $E(n)$."
   ]
  }
 ],
 "metadata": {
  "kernelspec": {
   "display_name": "Python 3 (ipykernel)",
   "language": "python",
   "name": "python3"
  },
  "language_info": {
   "codemirror_mode": {
    "name": "ipython",
    "version": 3
   },
   "file_extension": ".py",
   "mimetype": "text/x-python",
   "name": "python",
   "nbconvert_exporter": "python",
   "pygments_lexer": "ipython3",
   "version": "3.11.8"
  }
 },
 "nbformat": 4,
 "nbformat_minor": 5
}
