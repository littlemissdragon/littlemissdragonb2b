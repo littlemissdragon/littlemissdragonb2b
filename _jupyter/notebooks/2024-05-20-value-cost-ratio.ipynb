{
 "cells": [
  {
   "cell_type": "raw",
   "id": "43021520-7c36-4251-9343-3596c681512f",
   "metadata": {},
   "source": [
    "---\n",
    "layout: article\n",
    "title: Value to Cost Ratio - Higher Level Investment Decisions\n",
    "custom_css: article.css\n",
    "include_mathjax: true\n",
    "---"
   ]
  },
  {
   "cell_type": "markdown",
   "id": "c053d49e-0f2b-4694-b83b-89d26359f604",
   "metadata": {},
   "source": [
    "## Favorable Investment Detection\n",
    "In the [previous article](https://diogenesanalytics.com/blog/2024/05/19/optimal-options), the following equation was defined and used to calculate the *net expected utility*:\n",
    "\n",
    "$$\n",
    "E(n) = (1 - p^n)U - nC\n",
    "$$\n",
    "\n",
    "In the article, a lottery example was used to demonstrate the *equation* and show objectively which scenario was more advantageous. But this required a much more *intensive computation*, all to simply show that the second scenario (i.e. the *\"real\"* lottery) was completely **unfavorable**. Is there a better way to determine if some *investment* is favorable *before* calculating out the *optimal options* number $n$?"
   ]
  },
  {
   "cell_type": "markdown",
   "id": "1f19d49b-6249-4681-b158-db788470e622",
   "metadata": {},
   "source": [
    "## The Ratio\n",
    "Consider the following problem: you have a series of investments with known $U$, $C$, and $p$ values, which ones do you choose to further investigate the *optimal options number* $n$? When this collection of investments is *small* you can use the original *net expected utility* equation, but what if you have a *non-trivial* amount of data? Consider the following collection of investments that require some *high-level* decision on which are more favorable:"
   ]
  },
  {
   "cell_type": "code",
   "execution_count": null,
   "id": "661ca363-91c7-45fc-9ee4-6c5c6069dea0",
   "metadata": {
    "editable": true,
    "execution": {
     "iopub.execute_input": "2024-05-21T18:18:55.908455Z",
     "iopub.status.busy": "2024-05-21T18:18:55.907971Z",
     "iopub.status.idle": "2024-05-21T18:18:55.932407Z",
     "shell.execute_reply": "2024-05-21T18:18:55.931070Z"
    },
    "slideshow": {
     "slide_type": ""
    },
    "tags": [
     "remove_input"
    ]
   },
   "outputs": [],
   "source": [
    "# libs\n",
    "import random\n",
    "from typing import Generator\n",
    "from typing import Tuple\n",
    "\n",
    "# seed rng\n",
    "random.seed(42)\n",
    "\n",
    "# select random number from partitions\n",
    "def gen_partition_ranges(start: int, end: int, partitions: int) -> Generator[Tuple[float, float], None, None]:\n",
    "    \"\"\"Generate sub-ranges from partitions of a given range.\"\"\"    \n",
    "    # calculate partition sizes with a shifted distribution\n",
    "    partition_sizes = [((i + 1) ** 2) for i in range(partitions)]\n",
    "    total_partition_size = sum(partition_sizes)\n",
    "\n",
    "    # adjust partition sizes to fit the range\n",
    "    normal_partition_sizes = [size / total_partition_size * (end - start) for size in partition_sizes]\n",
    "\n",
    "    # begin iterating over partitions\n",
    "    for partition, partition_size in enumerate(normal_partition_sizes):\n",
    "        # calculate partition bounds\n",
    "        partition_start = start + partition * partition_size\n",
    "        partition_end = partition_start + partition_size\n",
    "\n",
    "        # generate i-th partition range\n",
    "        yield partition_start, partition_end\n",
    "\n",
    "def gen_random_partition(start: int, end: int, partitions: int) -> Generator[Tuple[float, float], None, None]:\n",
    "    \"\"\"Generate random numbers from partitions of a given range.\"\"\"\n",
    "    # loop over partition\n",
    "    for start, end in gen_partition_ranges(start, end, partitions):\n",
    "        # get random float\n",
    "        yield random.uniform(start, end)\n",
    "\n",
    "# func for U/C/p pairs\n",
    "def gen_investments(partitions: int) -> Generator[Tuple[float, float, float], None, None]:\n",
    "    \"\"\"Generate pairs of U/C/p values.\"\"\"    \n",
    "    # get random partition samples for U/C\n",
    "    uc_random_samples = list(gen_random_partition(1, 1e7, partitions))\n",
    "    \n",
    "    # loop until U > C\n",
    "    while True:        \n",
    "        # generate U and C as positive non-zero integers\n",
    "        U = int(random.choice(uc_random_samples))\n",
    "        C = int(random.choice(uc_random_samples))\n",
    "        \n",
    "        # termination condition\n",
    "        if U > C:\n",
    "            break\n",
    "\n",
    "    # get random partition samples for p\n",
    "    p_random_samples = list(gen_random_partition(1e-6, 1 - 1e-6, partitions))\n",
    "    \n",
    "    # generate 0 < p < 1\n",
    "    p = random.choice(p_random_samples)\n",
    "\n",
    "    # check if greater than 1\n",
    "    p = p if p < 1 else 1 / p\n",
    "\n",
    "    # get U/C/p pair\n",
    "    return U, C, p"
   ]
  },
  {
   "cell_type": "code",
   "execution_count": null,
   "id": "42e04a81-ed68-4d4a-9f05-ee35a299d9e3",
   "metadata": {
    "editable": true,
    "execution": {
     "iopub.execute_input": "2024-05-21T18:18:55.939027Z",
     "iopub.status.busy": "2024-05-21T18:18:55.938537Z",
     "iopub.status.idle": "2024-05-21T18:18:56.378984Z",
     "shell.execute_reply": "2024-05-21T18:18:56.378189Z"
    },
    "slideshow": {
     "slide_type": ""
    },
    "tags": [
     "remove_input"
    ]
   },
   "outputs": [],
   "source": [
    "# get libs\n",
    "import pandas as pd\n",
    "\n",
    "# generate example investments\n",
    "example_investments = [gen_investments(1000) for _ in range(20)]\n",
    "\n",
    "# create table\n",
    "example_investments_table = pd.DataFrame(example_investments, columns=[\"U\", \"C\", \"p\"])\n",
    "\n",
    "# set index name\n",
    "example_investments_table.index.name = \"id\"\n",
    "\n",
    "# display\n",
    "print(example_investments_table.to_string(index=False))"
   ]
  },
  {
   "cell_type": "markdown",
   "id": "5371204d-dc70-446f-937b-8cc48cecdfa8",
   "metadata": {},
   "source": [
    "Looking at the above list of *investment data* can you tell which are more favorable? Should we go through the process of evaluating the *net expected utility* equation for each pair of $U$, $C$, and $p$ values? No we should not. Instead we should apply the following equation:\n",
    "\n",
    "$$\n",
    "\\frac{(1 - p)U}{C}\n",
    "$$\n",
    "\n",
    "The above equation is a type of [risk/reward ratio](https://www.investopedia.com/terms/r/riskrewardratio.asp) (in this case *reward*/*risk*) and it can be used to get a sense of when a *potential investment* is favorable (or not)."
   ]
  },
  {
   "cell_type": "markdown",
   "id": "f78c779c-54c8-4217-9745-3a87e872cedf",
   "metadata": {},
   "source": [
    "## Return of the Lottery\n",
    "Now let us apply the previous *value/cost ratio* to the lottery data from the [previous article](https://diogenesanalytics.com/blog/2024/05/19/optimal-options):"
   ]
  },
  {
   "cell_type": "code",
   "execution_count": null,
   "id": "2f46d6c5-24d5-4926-9070-cee8d0701e5b",
   "metadata": {
    "editable": true,
    "execution": {
     "iopub.execute_input": "2024-05-21T18:18:56.384371Z",
     "iopub.status.busy": "2024-05-21T18:18:56.384062Z",
     "iopub.status.idle": "2024-05-21T18:18:56.387672Z",
     "shell.execute_reply": "2024-05-21T18:18:56.387081Z"
    },
    "slideshow": {
     "slide_type": ""
    },
    "tags": [
     "remove_input"
    ]
   },
   "outputs": [],
   "source": [
    "# value/cost ratio func\n",
    "def value_cost_ratio(U: float, C: float, p: float) -> float:\n",
    "    \"\"\"Calculates the value/cost ratio.\"\"\"\n",
    "    return ((1 - p) * U) / C"
   ]
  },
  {
   "cell_type": "code",
   "execution_count": null,
   "id": "cd3c7031-4ce2-4a36-9798-9b32a8c97970",
   "metadata": {
    "editable": true,
    "execution": {
     "iopub.execute_input": "2024-05-21T18:18:56.391907Z",
     "iopub.status.busy": "2024-05-21T18:18:56.391682Z",
     "iopub.status.idle": "2024-05-21T18:18:56.843718Z",
     "shell.execute_reply": "2024-05-21T18:18:56.843021Z"
    },
    "slideshow": {
     "slide_type": ""
    },
    "tags": [
     "remove_input"
    ]
   },
   "outputs": [],
   "source": [
    "# get plotting libs\n",
    "import matplotlib.pyplot as plt\n",
    "\n",
    "# set the style to a dark theme\n",
    "plt.style.use(\"dark_background\")\n",
    "\n",
    "# match website background\n",
    "plt.rcParams[\"figure.facecolor\"] = \"#181818\"\n",
    "plt.rcParams[\"axes.facecolor\"] = \"#181818\"\n",
    "plt.rcParams[\"axes.edgecolor\"] = \"#181818\"\n",
    "\n",
    "# calculate p_l\n",
    "p_lose = 1.0 - (1.0 / (2.55 * 1e6))\n",
    "\n",
    "# calculate heights for bar graph\n",
    "heights = [\n",
    "    value_cost_ratio(20 * 1e6, 2, p_lose),\n",
    "    value_cost_ratio(20 * 1e6, 100, p_lose)\n",
    "]\n",
    "\n",
    "# plot bar data\n",
    "plt.bar([\"Ideal\", \"Real\"], heights, color=plt.cm.inferno(0.50), alpha=0.50)\n",
    "\n",
    "# plot threshold\n",
    "plt.axhline(y=1, color=plt.cm.magma(0.90), linestyle=\"--\", label=\"Advantage Threshold\")\n",
    "\n",
    "# add titles and labels\n",
    "plt.ylabel(\"Value/Cost Ratio\")\n",
    "plt.suptitle(\n",
    "    \"Figure 1. Lottery Scenarios Value/Cost Ratios\", y=0.0001, fontsize=10\n",
    ")\n",
    "\n",
    "# displaying the plot\n",
    "plt.legend()\n",
    "plt.show()"
   ]
  },
  {
   "cell_type": "markdown",
   "id": "2861d090-0d47-4e7c-9953-2c8bac5dd620",
   "metadata": {},
   "source": [
    "From *figure 1* it seems like the *threshold* for an investment to become *favorable* is that the *value/cost* ratio must exceed $1$:\n",
    "\n",
    "$$\n",
    "\\frac{(1 - p)U}{C} > 1\n",
    "$$\n",
    "\n",
    "This would make sense, because this corresponds to the following equation:\n",
    "\n",
    "$$\n",
    "(1 - p)U = C\n",
    "$$\n",
    "\n",
    "Which is to say that the *value* and *cost* terms are *equal* and when evaluated normally:\n",
    "\n",
    "$$\n",
    "E(n) = (1 - p)U - C = 0\n",
    "$$\n",
    "\n",
    "So in this case your $E(n) = 0$, i.e. you will not be **winning**... but at least you will not be **losing** (i.e. $E(n) < 0$)."
   ]
  },
  {
   "cell_type": "markdown",
   "id": "b74560fe-9c17-4e9c-ac6f-0c81870ea7c1",
   "metadata": {},
   "source": [
    "## Application\n",
    "Finally we can apply the *value/cost* ratio to our *example investment data* and see which are favorable:"
   ]
  },
  {
   "cell_type": "code",
   "execution_count": null,
   "id": "99eebc6a-d856-45eb-84ba-399c2e50495a",
   "metadata": {
    "editable": true,
    "execution": {
     "iopub.execute_input": "2024-05-21T18:18:56.848846Z",
     "iopub.status.busy": "2024-05-21T18:18:56.848574Z",
     "iopub.status.idle": "2024-05-21T18:18:57.362487Z",
     "shell.execute_reply": "2024-05-21T18:18:57.361651Z"
    },
    "slideshow": {
     "slide_type": ""
    },
    "tags": [
     "remove_input"
    ]
   },
   "outputs": [],
   "source": [
    "# add new colum for value/cost ratio\n",
    "example_investments_table[\"vc_ratio\"] = example_investments_table.apply(\n",
    "    lambda row: value_cost_ratio(row[\"U\"], row[\"C\"], row[\"p\"]),\n",
    "    axis=1\n",
    ")\n",
    "\n",
    "# plot bar data\n",
    "plt.bar(\n",
    "    example_investments_table.index.values,\n",
    "    example_investments_table[\"vc_ratio\"].values,\n",
    "    color=plt.cm.inferno(0.50),\n",
    "    alpha=0.50\n",
    ")\n",
    "\n",
    "# setup x/y scales\n",
    "plt.xticks(\n",
    "    ticks=example_investments_table.index.values,\n",
    "    labels=example_investments_table.index.astype(int),\n",
    ")\n",
    "plt.yscale(\"log\")\n",
    "\n",
    "# plot threshold\n",
    "plt.axhline(y=1, color=plt.cm.magma(0.90), linestyle=\"--\", label=\"Advantage Threshold\")\n",
    "\n",
    "# add titles and labels\n",
    "plt.xlabel(\"Investment ID\")\n",
    "plt.ylabel(\"Log Transformed Value/Cost Ratio\")\n",
    "plt.suptitle(\n",
    "    \"Figure 2. Synthetic Investment Data Value/Cost Ratios\", y=0.0001, fontsize=10\n",
    ")\n",
    "\n",
    "# displaying the plot\n",
    "plt.legend()\n",
    "plt.show()"
   ]
  },
  {
   "cell_type": "markdown",
   "id": "bbd1488d-75ed-44da-b658-5cef089b5d5b",
   "metadata": {},
   "source": [
    "Looking at *figure 2* we can **easily** discern which investments are *not favorable*, which are *barely favorable*, which are a *little favorable*, and finally which investments are *reasonably* and *significantly favorable*. But let us now actually apply the original *net expected utility* and *reaffirm* that our method works by providing some *additional evidence*."
   ]
  },
  {
   "cell_type": "markdown",
   "id": "e90ee3fd-6d36-4460-8289-98c8c32294e7",
   "metadata": {},
   "source": [
    "## Bonus Round\n",
    "Now let us see how accurate our little *value/cost* ratio actually is. We will plot the *optimal options* of the investment data, by grouping them based on their *value/cost* ratio ($\\text{vcr}$) as follows:\n",
    "+ `not favorable` ($\\text{vcr} < 1$)\n",
    "+ `barely favorable` ($1 < \\text{vcr} < 10$)\n",
    "+ `little favorable` ($10 < \\text{vcr} < 100$)\n",
    "+ `reasonably favorable` ($100 < \\text{vcr} < 5000$)\n",
    "+ `significantly favorable` ($\\text{vcr} > 5000$)"
   ]
  },
  {
   "cell_type": "code",
   "execution_count": null,
   "id": "016bc660-e8a2-4f51-8462-c368c162a255",
   "metadata": {
    "editable": true,
    "execution": {
     "iopub.execute_input": "2024-05-21T18:18:57.367832Z",
     "iopub.status.busy": "2024-05-21T18:18:57.367511Z",
     "iopub.status.idle": "2024-05-21T18:18:57.371260Z",
     "shell.execute_reply": "2024-05-21T18:18:57.370690Z"
    },
    "slideshow": {
     "slide_type": ""
    },
    "tags": [
     "remove_input"
    ]
   },
   "outputs": [],
   "source": [
    "# setup E(n) function\n",
    "def expected_utility(u: float, c: float, p: float, n: int) -> float:\n",
    "    \"\"\"Calculates the expected utility.\"\"\"\n",
    "    return ((1 - p**n) * u) - (n * c)"
   ]
  },
  {
   "cell_type": "code",
   "execution_count": null,
   "id": "652aa9e7-bd03-406a-ae83-01ce7136dc83",
   "metadata": {
    "editable": true,
    "execution": {
     "iopub.execute_input": "2024-05-21T18:18:57.375804Z",
     "iopub.status.busy": "2024-05-21T18:18:57.375550Z",
     "iopub.status.idle": "2024-05-21T18:18:58.235068Z",
     "shell.execute_reply": "2024-05-21T18:18:58.234384Z"
    },
    "slideshow": {
     "slide_type": ""
    },
    "tags": [
     "remove_input"
    ]
   },
   "outputs": [],
   "source": [
    "# pointer to long example investment table name\n",
    "eit = example_investments_table\n",
    "\n",
    "# create dictionary for favorability groups\n",
    "favorable_groups = {\n",
    "    \"Not Favorable\": eit[\"vc_ratio\"] < 1,\n",
    "    \"Barely Favorable\": (eit[\"vc_ratio\"] > 1) & (eit[\"vc_ratio\"] < 10),\n",
    "    \"Little Favorable\": (eit[\"vc_ratio\"] > 10) & (eit[\"vc_ratio\"] < 100),\n",
    "    \"Reasonably Favorable\": (eit[\"vc_ratio\"] > 100) & (eit[\"vc_ratio\"] < 5000),\n",
    "    \"Significantly Favorable\": eit[\"vc_ratio\"] > 5000                             \n",
    "}\n",
    "\n",
    "# loop through favorable groups\n",
    "for fig_num, (key, mask) in enumerate(favorable_groups.items()):\n",
    "    # get sub data frame\n",
    "    sub_data_frame = eit[mask]\n",
    "    \n",
    "    # loop over rows\n",
    "    for idx, row in sub_data_frame.iterrows():\n",
    "        # get values\n",
    "        U = row[\"U\"]\n",
    "        C = row[\"C\"]\n",
    "        p = row[\"p\"]\n",
    "        \n",
    "        # generate x/y pairs\n",
    "        x_values, y_values = zip(*((n, expected_utility(U, C, p, n)) for n in range(1, 11)))\n",
    "    \n",
    "        # create the line plot\n",
    "        plt.plot(x_values, y_values, label=idx)\n",
    "\n",
    "    # add titles and labels\n",
    "    plt.xlabel(\"Number of Options (n)\")\n",
    "    plt.ylabel(\"Expected Utility (E)\")\n",
    "    \n",
    "    # set title\n",
    "    plt.suptitle(\n",
    "        f\"Figure {fig_num + 3}. Optimal Number for {key!r} Investments\", y=0.0001, fontsize=10\n",
    "    )\n",
    "\n",
    "    # now show\n",
    "    plt.legend(title=\"id#\")\n",
    "    plt.show()"
   ]
  },
  {
   "cell_type": "markdown",
   "id": "864b2e99-f5de-4dee-8dd1-025fed4b96d0",
   "metadata": {
    "editable": true,
    "slideshow": {
     "slide_type": ""
    },
    "tags": []
   },
   "source": [
    "The results are quite interesting (see below data table for *investment id* lookup). In *figure 3* we see basically what we expected (i.e. nothing favorable). In *figure 4* there is something interesting happening with the *investment ids* $1$, $2$, and $6$. And finally in *figures* *5*, *6*, and *7* we see what we would expect (several *favorable investment options*). Of course we also realize from these figures the limits of the *value/cost* ratio: the ratio alone is not enough to **completely** filter *investment options*, unless these options have a $\\text{vcr} < 1$ (i.e *not favorable*). If the $\\text{vcr} > 1$, then the particular investment *could be favorable*. However, the *net expected utility* equation is still needed to figure out if $E(n)$ decreases as $n$ increases, and if it increases, what the optimal number of options (e.g. the tickets in the lottery) will be."
   ]
  },
  {
   "cell_type": "code",
   "execution_count": null,
   "id": "ebf40f77-b2b3-498b-8673-4751ad36de17",
   "metadata": {
    "editable": true,
    "execution": {
     "iopub.execute_input": "2024-05-21T18:18:58.239457Z",
     "iopub.status.busy": "2024-05-21T18:18:58.239258Z",
     "iopub.status.idle": "2024-05-21T18:18:58.244967Z",
     "shell.execute_reply": "2024-05-21T18:18:58.244311Z"
    },
    "slideshow": {
     "slide_type": ""
    },
    "tags": [
     "remove_input"
    ]
   },
   "outputs": [],
   "source": [
    "# show final table of example investment data\n",
    "print(example_investments_table.to_string())"
   ]
  },
  {
   "cell_type": "markdown",
   "id": "d0e9c233-ef05-41d5-8f5c-e33928eae546",
   "metadata": {},
   "source": [
    "## Moral\n",
    "The power of numbers is not just their *objectivity*, but also in their ability to *obfuscate* the truth. As paradoxical as this may sound, what else could be said in regards to the *example investment data*? It is simply not a simple task to look at columns of numbers and directly determine which will be *more favorable* in their *net expected utility* by first impression alone. It is only through a more *sharpened application* of mathematics (and hence the mind) that we can *extract* from this infinitude of numbers that *mysterious* and *obscure* truth that we desire above all: which investments are *favorable*?"
   ]
  }
 ],
 "metadata": {
  "kernelspec": {
   "display_name": "Python 3 (ipykernel)",
   "language": "python",
   "name": "python3"
  },
  "language_info": {
   "codemirror_mode": {
    "name": "ipython",
    "version": 3
   },
   "file_extension": ".py",
   "mimetype": "text/x-python",
   "name": "python",
   "nbconvert_exporter": "python",
   "pygments_lexer": "ipython3",
   "version": "3.11.8"
  }
 },
 "nbformat": 4,
 "nbformat_minor": 5
}
