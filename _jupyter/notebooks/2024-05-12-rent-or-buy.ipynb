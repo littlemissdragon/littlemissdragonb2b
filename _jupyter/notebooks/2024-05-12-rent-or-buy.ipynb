{
 "cells": [
  {
   "cell_type": "raw",
   "id": "954f8423-0683-499e-9db3-239557e5157e",
   "metadata": {},
   "source": [
    "---\n",
    "layout: article\n",
    "title: To Rent or Not To Rent - A Wealth Management Perspective\n",
    "custom_css: article.css\n",
    "include_mathjax: true\n",
    "---"
   ]
  },
  {
   "cell_type": "markdown",
   "id": "380d82c5-963d-4c9c-a02c-2cb55fa2a4f3",
   "metadata": {},
   "source": [
    "## Minimizing Cost of Living\n",
    "One of the *major* contributors to cost of living is **RENT**. Often rent can count for *more than double* the other cost of living [expenses](https://www.numbeo.com/cost-of-living/country_result.jsp?country=United+States). But in order to *eliminate* rent, a portion of wealth must be *invested* into purchasing property. This could *potentially* decrease the *number of months* $N$ that you can live at your current standard of living, given your wealth $W$. So what is the *optimal* portion of your wealth used to purchase property so as to *increase* $N$?"
   ]
  },
  {
   "cell_type": "markdown",
   "id": "69501fbf-533a-45d3-ab55-e1b1fe82b728",
   "metadata": {},
   "source": [
    "## The Basic Problem\n",
    "What we are trying to find is the `% wealth` $p$ that maximizes the following equation:\n",
    "\n",
    "$$\n",
    "\\Delta{N} = \\frac{(1 - p)W}{C} - \\frac{W}{C + R}\n",
    "$$\n",
    "\n",
    "What $\\Delta{N}$ represents is the *difference* between the two scenarios:\n",
    "\n",
    "$$\n",
    "\\Delta{N} = N_{purchase} - N_{rent}\n",
    "$$\n",
    "\n",
    "Where $N_{purchase}$ is the *number of months* the remaining wealth $(1 - p)W$ can purchase under the monthly *cost of living* $C$, and $N_{rent}$ is the *number of months* the original wealth $W$ can purchase under monthly *cost of living PLUS rent* $(C + R)$:\n",
    "\n",
    "$$\n",
    "\\begin{align*}\n",
    "    N_{purchase} &= \\frac{(1 - p)W}{C} \\\\\n",
    "    N_{rent} &= \\frac{W}{C + R}\n",
    "\\end{align*}\n",
    "$$\n",
    "\n",
    "Now let us visualize a specific example of the *basic problem*. Say you have $62k$ USD in savings (the average [US savings](https://www.businessinsider.com/personal-finance/average-american-savings) circa 2022), your rent is about $1.7k$ USD, and the cost of living is $1.2k$ USD (from [Numbeo](https://www.numbeo.com/cost-of-living/country_result.jsp?country=United+States) circa *Q2* 2024):"
   ]
  },
  {
   "cell_type": "code",
   "execution_count": null,
   "id": "4aa08b63-8ff0-4b10-9da5-db0ccaeea12b",
   "metadata": {
    "editable": true,
    "execution": {
     "iopub.execute_input": "2024-05-14T22:10:58.747546Z",
     "iopub.status.busy": "2024-05-14T22:10:58.747185Z",
     "iopub.status.idle": "2024-05-14T22:10:59.043326Z",
     "shell.execute_reply": "2024-05-14T22:10:59.042721Z"
    },
    "slideshow": {
     "slide_type": ""
    },
    "tags": [
     "remove_input"
    ]
   },
   "outputs": [],
   "source": [
    "# get optimization libs\n",
    "from scipy.optimize import minimize\n",
    "\n",
    "# define functions\n",
    "def calculate_delta_n(p: float, R: float, C: float, W: float, a: int = 1, N_limit: int = 12, sell: bool = False):\n",
    "    \"\"\"Calculate the ΔN given the initial values for rent, col, and wealth.\"\"\"\n",
    "    # get all N terms\n",
    "    N_sell = (p * W * a) / (R + C)\n",
    "    N_purchase = ((1 - p) * W) / C\n",
    "    N_rent = W / (R + C)\n",
    "\n",
    "    # calculate delta N\n",
    "    delta_N = N_purchase - N_rent\n",
    "\n",
    "    # conditionally add term for N sell\n",
    "    delta_N = delta_N if not sell else delta_N + N_sell - N_limit\n",
    "\n",
    "    # finished\n",
    "    return delta_N\n",
    "\n",
    "def absolute_objective_function(*args, **kwargs):\n",
    "    \"\"\"Calculate absolute value for objective function.\"\"\"\n",
    "    return abs(calculate_delta_n(*args, **kwargs))"
   ]
  },
  {
   "cell_type": "code",
   "execution_count": null,
   "id": "788cce68-5472-43cf-860e-77ac4d98954c",
   "metadata": {
    "editable": true,
    "execution": {
     "iopub.execute_input": "2024-05-14T22:10:59.046191Z",
     "iopub.status.busy": "2024-05-14T22:10:59.045950Z",
     "iopub.status.idle": "2024-05-14T22:10:59.509551Z",
     "shell.execute_reply": "2024-05-14T22:10:59.508876Z"
    },
    "slideshow": {
     "slide_type": ""
    },
    "tags": [
     "remove_input"
    ]
   },
   "outputs": [],
   "source": [
    "# get plotting libs\n",
    "import matplotlib.pyplot as plt\n",
    "import numpy as np\n",
    "\n",
    "# set the style to a dark theme\n",
    "plt.style.use(\"dark_background\")\n",
    "\n",
    "# match website background\n",
    "plt.rcParams[\"figure.facecolor\"] = \"#181818\"\n",
    "plt.rcParams[\"axes.facecolor\"] = \"#181818\"\n",
    "plt.rcParams[\"axes.edgecolor\"] = \"#181818\"\n",
    "\n",
    "# set values\n",
    "W = 62000\n",
    "R = 1756\n",
    "C = 1167\n",
    "\n",
    "# ind the value of p that minimizes the absolute value of the objective function\n",
    "result = minimize(absolute_objective_function, 0.5, args=(R, C, W))\n",
    "\n",
    "# Extract the optimal value of x\n",
    "threshold_p = result.x[0]\n",
    "\n",
    "# generate p/ΔN pairs\n",
    "p_values = np.arange(0, 1 + 0.01, 0.01)\n",
    "delta_n_values = np.array([calculate_delta_n(p, R, C, W) for p in p_values])\n",
    "\n",
    "# plotting the data\n",
    "plt.plot(p_values, delta_n_values)\n",
    "\n",
    "# plot threshold p value\n",
    "plt.axvline(x=threshold_p, color='green', linestyle='--', label='Advantage Threshold')\n",
    "\n",
    "# adding labels and title\n",
    "plt.xlabel(\"% Wealth (p)\")\n",
    "plt.ylabel(\"Additional Months (ΔN)\")\n",
    "\n",
    "# set title\n",
    "plt.suptitle(\n",
    "    \"Figure 1. Average U.S. Renter Optimal Property Investment\", y=0.0001, fontsize=10\n",
    ")\n",
    "\n",
    "# displaying the plot\n",
    "plt.legend()\n",
    "plt.show()"
   ]
  },
  {
   "cell_type": "markdown",
   "id": "1d90293c-a4ea-45b8-afeb-2177d093bc84",
   "metadata": {},
   "source": [
    "What *figure 1* above shows is that, below $p = 0.6$ you will actually increase $N$: you will gain more time, measured in *months*, for your given wealth and given cost of living. Granted it also suggests, unsurprisingly, that the lower that $p$ value is, the more *months* $N$ you are going to get."
   ]
  },
  {
   "cell_type": "markdown",
   "id": "3ded5aa2-d277-4432-9da8-32bfccc77a96",
   "metadata": {},
   "source": [
    "## The Advanced Problem\n",
    "The basic problem only considers the *scenarios* for purchasing and renting, but there is a *third scenario*: $N_{sell}$. This third scenario represents the *number of months* to be gained after *selling* the property purchased in the *second scenario* $N_{purchase}$:\n",
    "\n",
    "$$\n",
    "\\Delta{N} = N_{purchase} - N_{rent} + N_{sell} - N_{limit}\n",
    "$$\n",
    "\n",
    "Where $N_{limit}$ represents an arbitrary *minimum limit* of months that are *worth selling* the previously purchased property for. The $N_{limit}$ term is really only used to find the *advantage threshold* (the break even point, that delineates where you begin *losing advantage*), and in the previous example $N_{limit} = 0$ was the *advantage threshold*. The full equation takes the following form:\n",
    "\n",
    "$$\n",
    "\\Delta{N} = \\frac{(1 - p)W}{C} - \\frac{W}{C + R} + \\frac{paW}{C + R} - N_{limit}\n",
    "$$\n",
    "\n",
    "Note the $a$ variable in the $N_{sell}$ term. This variable represents the *appreciation* (as a fraction) of the property. For example, if the property can only be sold at $75\\%$ of the original price, then $a = 0.75$, and if the property has increased in value by $50\\%$ then $a = 1.5$, and so on. The simplest scenario is when $a = 1$ which then we can simplify the definition of the $N_{sell}$ term:\n",
    "\n",
    "$$\n",
    "N_{sell} = \\frac{pW}{C + R}\n",
    "$$\n",
    "\n",
    "So now let us return to the *average U.S. renter* scenario described above, but this time let us consider the *third scenario* and set the *advantage threshold* to $12$ (we only want to consider selling if we can get *at least* $12$ months out of the sell), and $a = 1$ (no change in property value):"
   ]
  },
  {
   "cell_type": "code",
   "execution_count": null,
   "id": "08cd4679-6ca5-47ad-84c4-9276fbe1ba26",
   "metadata": {
    "editable": true,
    "execution": {
     "iopub.execute_input": "2024-05-14T22:10:59.512496Z",
     "iopub.status.busy": "2024-05-14T22:10:59.512212Z",
     "iopub.status.idle": "2024-05-14T22:10:59.689118Z",
     "shell.execute_reply": "2024-05-14T22:10:59.688528Z"
    },
    "slideshow": {
     "slide_type": ""
    },
    "tags": [
     "remove_input"
    ]
   },
   "outputs": [],
   "source": [
    "# find the value of p that minimizes the absolute value of the objective function\n",
    "result = minimize(absolute_objective_function, 0.5, args=(R, C, W, 1, 12, True))\n",
    "\n",
    "# extract the optimal value of x\n",
    "threshold_p = result.x[0]\n",
    "\n",
    "# calculate new delta N values\n",
    "sell_delta_n_values = np.array([calculate_delta_n(p, R, C, W, a=1, N_limit=0, sell=True) for p in p_values])\n",
    "\n",
    "# plotting the data\n",
    "plt.plot(p_values, sell_delta_n_values)\n",
    "\n",
    "# plot threshold p value\n",
    "plt.axvline(x=threshold_p, color='green', linestyle='--', label='Advantage Threshold')\n",
    "\n",
    "# adding labels and title\n",
    "plt.xlabel(\"% Wealth (p)\")\n",
    "plt.ylabel(\"Additional Months (ΔN)\")\n",
    "\n",
    "# set title\n",
    "plt.suptitle(\n",
    "    \"Figure 2. Average U.S. Renter Optimal Property Investment All Scenarios\", y=0.0001, fontsize=10\n",
    ")\n",
    "\n",
    "# displaying the plot\n",
    "plt.legend()\n",
    "plt.show()"
   ]
  },
  {
   "cell_type": "markdown",
   "id": "86ab7f43-eb9f-449c-aadc-832f2a93fda0",
   "metadata": {},
   "source": [
    "As it turns out $p \\approx 0.6$ is again the optimal `% wealth` to use for *purchasing property* to eliminate *rent* (here it is the point where $\\Delta{N} = 12$, or you are guaranteed to get at least $12$ *additional months* by purchasing and selling, compared to only renting). By including the *selling scenario* $N_{sell}$ it is even more clear how advantageous putting even $60\\%$ of your wealth into purchasing real estate can be, compared to considering *only* the purchasing/renting scenarios (which have a $\\Delta{N} = 0$ for $p = 0.6$)."
   ]
  },
  {
   "cell_type": "markdown",
   "id": "3592ec52-22fa-402a-98ff-bec83ddbc210",
   "metadata": {},
   "source": [
    "## Risk of Depreciation\n",
    "What if $a < 1$? Meaning what if you used a fraction $p$ of your wealth to purchase property, and then when you go to sell it, you sell at a loss (i.e. lose money)?"
   ]
  },
  {
   "cell_type": "code",
   "execution_count": null,
   "id": "c1c47ee5-a01e-4524-99e5-752adf4b2c20",
   "metadata": {
    "editable": true,
    "execution": {
     "iopub.execute_input": "2024-05-14T22:10:59.691861Z",
     "iopub.status.busy": "2024-05-14T22:10:59.691638Z",
     "iopub.status.idle": "2024-05-14T22:10:59.845432Z",
     "shell.execute_reply": "2024-05-14T22:10:59.844761Z"
    },
    "slideshow": {
     "slide_type": ""
    },
    "tags": [
     "remove_input"
    ]
   },
   "outputs": [],
   "source": [
    "# find the value of p that minimizes the absolute value of the objective function\n",
    "result_half = minimize(absolute_objective_function, 0.5, args=(R, C, W, 0.5, 12, True))\n",
    "\n",
    "# calculate new delta N values\n",
    "sell_delta_n_values = np.array([calculate_delta_n(p, R, C, W, a=0.5, N_limit=0, sell=True) for p in p_values])\n",
    "\n",
    "# plotting the data\n",
    "plt.plot(p_values, sell_delta_n_values)\n",
    "\n",
    "# plot threshold p value\n",
    "plt.axvline(x=result_half.x[0], color='green', linestyle='--', label='Advantage Threshold')\n",
    "\n",
    "# adding labels and title\n",
    "plt.xlabel(\"% Wealth (p)\")\n",
    "plt.ylabel(\"Additional Months (ΔN)\")\n",
    "\n",
    "# set title\n",
    "plt.suptitle(\n",
    "    \"Figure 3. Depreciation by 50% All Scenarios\", y=0.0001, fontsize=10\n",
    ")\n",
    "\n",
    "# displaying the plot\n",
    "plt.legend()\n",
    "plt.show()"
   ]
  },
  {
   "cell_type": "markdown",
   "id": "aa284d6d-a20c-4156-80dd-a23b14c9394a",
   "metadata": {},
   "source": [
    "What *figure 3* above shows is that even with $a = 0.50$ (i.e. a depreciation of $50\\%$) you can still gain an additional $12$ more months, $\\Delta{N} = 12$, compared to the number of months you can get by simply renting. In other words:\n",
    "\n",
    "$$\n",
    "\\begin{align*}\n",
    "    W &= 62000 \\\\\n",
    "    R &= 1756 \\\\\n",
    "    C &= 1167 \\\\\n",
    "    p &= 0.47 \\\\\n",
    "    a &= 0.5 \\\\\n",
    "    \\Delta{N} &= N_{purchase} - N_{rent} + N_{sell} = 12\n",
    "\\end{align*}\n",
    "$$\n",
    "\n",
    "So up to about $47\\%$ of you wealth will allow you to get *at least* 12 additional months compared to the number of months possible to simply live off your wealth $W$, while paying rent $R$ and your current cost of living $C$."
   ]
  },
  {
   "cell_type": "markdown",
   "id": "de710bc2-11a1-4036-bf19-568e9a93ec99",
   "metadata": {},
   "source": [
    "## Moral\n",
    "In the right market (i.e the $C$, $R$, and $a$ values), with the right wealth $W$, there are circumstances where it can be overtly *advantageous* to purchase property using some fraction $p$ of your wealth. Granted, there are still plenty of situations where it actually does make more sense to rent (e.g. the $p$ that can increase your $\\Delta{N}$ to a significant extent is not enough to *actually purchase* property). All things considered, it is a very straight forward *calculation* to determine how much more *time* could be purchased by your wealth, simply by eleminating *rent*."
   ]
  }
 ],
 "metadata": {
  "kernelspec": {
   "display_name": "Python 3 (ipykernel)",
   "language": "python",
   "name": "python3"
  },
  "language_info": {
   "codemirror_mode": {
    "name": "ipython",
    "version": 3
   },
   "file_extension": ".py",
   "mimetype": "text/x-python",
   "name": "python",
   "nbconvert_exporter": "python",
   "pygments_lexer": "ipython3",
   "version": "3.11.8"
  }
 },
 "nbformat": 4,
 "nbformat_minor": 5
}
