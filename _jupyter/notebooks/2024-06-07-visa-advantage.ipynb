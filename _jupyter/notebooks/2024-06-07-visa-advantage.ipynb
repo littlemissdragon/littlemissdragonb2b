{
 "cells": [
  {
   "cell_type": "raw",
   "id": "7440099e-b153-4039-bd5a-2eb711da6812",
   "metadata": {},
   "source": [
    "---\n",
    "layout: article\n",
    "title: Visa Advantage - Visa Strategies for Wealth Management\n",
    "custom_css: article.css\n",
    "include_mathjax: true\n",
    "---"
   ]
  },
  {
   "cell_type": "markdown",
   "id": "23d40bee-1a02-45bd-b566-c341cf9165c7",
   "metadata": {},
   "source": [
    "## Visa Types\n",
    "When it comes to traveling and *living abroad* in general, one of the major decisions one must make is related to the [visas](https://en.wikipedia.org/wiki/Travel_visa) used to enter the desired country. Basically all visas can be grouped into *two basic* categories:\n",
    "+ Long-Term\n",
    "+ Short-Term\n",
    "\n",
    "The difference between the two is simply the duration of stay. As you could imagine *long-term* visas entail at least a *year or more* stay, where as *short-term* are at most *3 months*. Thus different *strategies* are needed depending on the *type* of visa you choose."
   ]
  },
  {
   "cell_type": "markdown",
   "id": "75a22707-aeb4-4754-b676-ba55732ace25",
   "metadata": {},
   "source": [
    "## Long-Term Visa Strategies\n",
    "Since the *long-term* visa will typically include *at least a year or more* of duration in the foreign country, we can begin to understand the advantage in terms of the additional months $\\Delta{N}$ acquired by residing/operating in the *foreign* country compared to the *country of origin*:\n",
    "\n",
    "$$\n",
    "\\Delta{N} = N_{foreign} + N_{remainder} - N_{domestic}\n",
    "$$\n",
    "\n",
    "Where $N_{foreign}$ is the total number of months that your wealth $W$ can purchase for you under a given *cost of living* $C$, $N_{remainder}$ is the *remaining wealth* (if any) that will be used to live in the *country of origin* upon return from the *foreign* country, and $N_{domestic}$ is simply the numer of months that your wealth $W$ can purchase for you under the *cost of living* $C$ in your home country (never having traveled to the *foreign* country). The full equation is shown below:\n",
    "\n",
    "$$\n",
    "\\Delta{N} = \\min\\left(\\frac{(1 - p)W}{C_{f}}, N_{limit}\\right) + \\frac{(1 - p)W - \\min\\left(\\frac{(1 - p)W}{C_{f}}, N_{limit}\\right)C_f}{C_d} - \\frac{W}{C_{d}}\n",
    "$$\n",
    "\n",
    "Where the $C_{f}$ and $C_{d}$ terms are the *cost of living* (including renting, utilities, food, etc ...) for both the *foreign* and *domestic* countries respectively. The value $(1 - p)W$ is the remaining wealth after $pW$ is used to pay various costs related to *travel* $T$, *visa fees* $V$, *investment* $I$, etc ... into the target foreign country:\n",
    "\n",
    "$$\n",
    "pW = T + V + I \\dots\n",
    "$$\n",
    "\n",
    "The term $N_{limit}$ is the *maximum* amount of months the specific visa *allows*, and if the $(1 - p)W$ term can purchase *more months* (with *cost of living* $C_f$) than $N_{limit}$ allows, then the *smaller* of the two values (i.e. $N_{limit}$) will be chosen. That is the purpose of this component of the equation:\n",
    "\n",
    "$$\n",
    "\\min\\left(\\frac{(1 - p)W}{C_{f}}, N_{limit}\\right)\n",
    "$$\n",
    "\n",
    "And of course $p$ is the *fraction of wealth* used to cover the necessary costs (i.e. *travel*, *visa fees*, *investment*, etc ...) for entering and residing in the target *foreign country*."
   ]
  },
  {
   "cell_type": "markdown",
   "id": "56e2d6c2-10be-4f00-bc17-90184888fe66",
   "metadata": {},
   "source": [
    "## Brazil\n",
    "As an example of the *long-term* visa strategy, let us look at the *average U.S. citizen* circa 2022 (who you [may recall](https://diogenesanalytics.com/blog/2024/05/12/rent-or-buy) has $\\sim62\\text{k}$ USD in savings) residing $1$, $2$, $4$, and $8$ years in *Brazil*."
   ]
  },
  {
   "cell_type": "code",
   "execution_count": null,
   "id": "3cfac0ba-20fc-4311-a563-d23df4f45887",
   "metadata": {
    "editable": true,
    "execution": {
     "iopub.execute_input": "2024-06-11T20:06:27.577822Z",
     "iopub.status.busy": "2024-06-11T20:06:27.577354Z",
     "iopub.status.idle": "2024-06-11T20:06:27.602170Z",
     "shell.execute_reply": "2024-06-11T20:06:27.601567Z"
    },
    "slideshow": {
     "slide_type": ""
    },
    "tags": [
     "remove_input",
     "remove_output"
    ]
   },
   "outputs": [],
   "source": [
    "# libs for downloading earth map data\n",
    "import pathlib\n",
    "import tempfile\n",
    "import urllib.request\n",
    "import zipfile\n",
    "from tqdm import tqdm\n",
    "\n",
    "# natural earth 10m cultural shape file\n",
    "shape_file_url = (\n",
    "    \"https://naciscdn.org/naturalearth/10m/cultural/10m_cultural.zip\"\n",
    ")\n",
    "\n",
    "# directory to save the downloaded file\n",
    "data_dir = pathlib.Path(\"./data/geo/\")\n",
    "\n",
    "# directory to extract the contents of the ZIP file\n",
    "extract_dir = data_dir / \"natural_earth_10m_cultural\"\n",
    "\n",
    "def download_with_progress(url: str, filename: pathlib.Path) -> None:\n",
    "    \"\"\"Utility function to download files with progress bar.\"\"\"\n",
    "    # set headers\n",
    "    headers = {\n",
    "        'User-Agent': 'Mozilla/5.0 (Windows NT 10.0; Win64; x64) AppleWebKit/537.36 (KHTML, like Gecko) Chrome/58.0.3029.110 Safari/537.3'\n",
    "    }\n",
    "\n",
    "    # create request\n",
    "    request = urllib.request.Request(url, headers=headers)\n",
    "\n",
    "    # open URL\n",
    "    response = urllib.request.urlopen(request)\n",
    "\n",
    "    # get total file size\n",
    "    total = int(response.getheader('Content-Length', 0))\n",
    "\n",
    "    # set block size for updating\n",
    "    block_size = 1024\n",
    "\n",
    "    # create progress bar\n",
    "    tqdm_bar = tqdm(total=total, unit='B', unit_scale=True, desc=filename.name)\n",
    "\n",
    "    # open new file\n",
    "    with open(filename, 'wb') as file:\n",
    "        # loop over blocks\n",
    "        while True:\n",
    "            # get next data chunk\n",
    "            buffer = response.read(block_size)\n",
    "\n",
    "            # quit if finished\n",
    "            if not buffer:\n",
    "                break\n",
    "\n",
    "            # write out data chunk\n",
    "            file.write(buffer)\n",
    "\n",
    "            # update progress bar\n",
    "            tqdm_bar.update(len(buffer))\n",
    "\n",
    "    # finished\n",
    "    tqdm_bar.close()\n",
    "\n",
    "# check for previous download\n",
    "if not extract_dir.exists():\n",
    "    # create the parent tree (in case it doesn't exist)\n",
    "    data_dir.mkdir(parents=True, exist_ok=True)\n",
    "    \n",
    "    # create a temporary directory to download the file\n",
    "    with tempfile.TemporaryDirectory() as temp_dir:\n",
    "        # filename for the downloaded ZIP file\n",
    "        zip_filename = pathlib.Path(temp_dir) / \"10m_cultural.zip\"\n",
    "        \n",
    "        # download the ZIP file with progress bar\n",
    "        download_with_progress(shape_file_url, zip_filename)\n",
    "    \n",
    "        # extract the contents of the ZIP file\n",
    "        with zipfile.ZipFile(zip_filename, 'r') as zip_ref:\n",
    "            zip_ref.extractall(extract_dir)"
   ]
  },
  {
   "cell_type": "code",
   "execution_count": null,
   "id": "43c182bf-622b-4d92-a4bb-005327cfacf6",
   "metadata": {
    "editable": true,
    "execution": {
     "iopub.execute_input": "2024-06-11T20:06:27.606269Z",
     "iopub.status.busy": "2024-06-11T20:06:27.606034Z",
     "iopub.status.idle": "2024-06-11T20:06:30.988318Z",
     "shell.execute_reply": "2024-06-11T20:06:30.987419Z"
    },
    "slideshow": {
     "slide_type": ""
    },
    "tags": [
     "remove_input"
    ]
   },
   "outputs": [],
   "source": [
    "# now libs for loading earth map\n",
    "import geopandas as gpd\n",
    "\n",
    "# get world geo data\n",
    "world_map = gpd.read_file(extract_dir / \"10m_cultural\")\n",
    "\n",
    "# Filter for South American countries\n",
    "south_america = world_map[(world_map[\"CONTINENT\"] == \"South America\")]"
   ]
  },
  {
   "cell_type": "code",
   "execution_count": null,
   "id": "d63c51cc-f19c-4f1a-8dab-62f398b55622",
   "metadata": {
    "editable": true,
    "execution": {
     "iopub.execute_input": "2024-06-11T20:06:30.992714Z",
     "iopub.status.busy": "2024-06-11T20:06:30.992498Z",
     "iopub.status.idle": "2024-06-11T20:06:31.945020Z",
     "shell.execute_reply": "2024-06-11T20:06:31.943822Z"
    },
    "slideshow": {
     "slide_type": ""
    },
    "tags": [
     "remove_input"
    ]
   },
   "outputs": [],
   "source": [
    "# get libs for downloading\n",
    "import pandas as pd\n",
    "\n",
    "# get cost of living data\n",
    "col_data = pd.read_csv(\n",
    "    \"https://gist.githubusercontent.com/DiogenesAnalytics/ef50827b9b5d8ae5a2617e8a85f0a789/raw/ba7da0101aa98f163e567dc809e4ed0509e5fdb1/col_usd_world_dp_094219_01062024.csv\",\n",
    "    dtype={\n",
    "        \"country\": str,     \n",
    "        \"col_usd\": int,\n",
    "    },\n",
    ")"
   ]
  },
  {
   "cell_type": "code",
   "execution_count": null,
   "id": "cf5db646-2193-433c-9d85-c2d89ae09820",
   "metadata": {
    "editable": true,
    "execution": {
     "iopub.execute_input": "2024-06-11T20:06:31.950844Z",
     "iopub.status.busy": "2024-06-11T20:06:31.950354Z",
     "iopub.status.idle": "2024-06-11T20:06:32.721460Z",
     "shell.execute_reply": "2024-06-11T20:06:32.720734Z"
    },
    "slideshow": {
     "slide_type": ""
    },
    "tags": [
     "remove_input"
    ]
   },
   "outputs": [],
   "source": [
    "# get plotting libs\n",
    "import matplotlib.pyplot as plt\n",
    "\n",
    "# set initial figure counter to 1\n",
    "fig_count = 1\n",
    "\n",
    "# set the style to a dark theme\n",
    "plt.style.use(\"dark_background\")\n",
    "\n",
    "# match website background\n",
    "plt.rcParams[\"figure.facecolor\"] = \"#181818\"\n",
    "plt.rcParams[\"axes.facecolor\"] = \"#181818\"\n",
    "plt.rcParams[\"axes.edgecolor\"] = \"#181818\"\n",
    "\n",
    "# get subplot for South America\n",
    "fig, ax = plt.subplots(figsize=(6, 6))\n",
    "\n",
    "# set the view for only the mainland\n",
    "ax.set_xlim([-85, -30])\n",
    "ax.set_ylim([-60, 15])\n",
    "\n",
    "# turn off axes for the South America plot only\n",
    "ax.axis(\"off\")\n",
    "\n",
    "# set title\n",
    "plt.suptitle(\n",
    "    f\"Figure {fig_count}. Map of South America (Brazil Highlighted)\", y=0.0001, fontsize=10,\n",
    ")\n",
    "\n",
    "# adjust padding\n",
    "plt.tight_layout(pad=0.5)  # Adjust the padding as needed\n",
    "\n",
    "# increment fig count\n",
    "fig_count += 1\n",
    "\n",
    "# plot all countries with darkish grey color\n",
    "south_america.plot(\n",
    "    ax=ax,\n",
    "    color=\"grey\",\n",
    "    edgecolor=\"#181818\",\n",
    "    linewidth=0.1,\n",
    ");\n",
    "\n",
    "# plot Brazil with a different color\n",
    "south_america[south_america[\"ISO_A2\"] == \"BR\"].plot(\n",
    "    ax=ax,\n",
    "    color=plt.cm.viridis(0.70),\n",
    "    edgecolor=\"#181818\",\n",
    ");"
   ]
  },
  {
   "cell_type": "code",
   "execution_count": null,
   "id": "fa0a6a11-4da7-4600-9e60-7fd0e9ab6cd5",
   "metadata": {
    "editable": true,
    "execution": {
     "iopub.execute_input": "2024-06-11T20:06:32.726395Z",
     "iopub.status.busy": "2024-06-11T20:06:32.726086Z",
     "iopub.status.idle": "2024-06-11T20:06:32.734469Z",
     "shell.execute_reply": "2024-06-11T20:06:32.733727Z"
    },
    "slideshow": {
     "slide_type": ""
    },
    "tags": [
     "remove_input"
    ]
   },
   "outputs": [],
   "source": [
    "# get type for sequence\n",
    "from typing import Sequence, Union\n",
    "\n",
    "# define functions for calculating additional months\n",
    "def calculate_delta_n(\n",
    "    p: float,\n",
    "    W: float,\n",
    "    d: Union[Sequence[int], int],\n",
    "    S: Union[Sequence[int], int],\n",
    "    C_f: Union[Sequence[float], float],\n",
    "    C_d: float) -> float:\n",
    "    \"\"\"Calculate the additional months gained through immigration.\"\"\"\n",
    "    # check for single values and convert to sequences if necessary\n",
    "    d = d if isinstance(d, Sequence) else [d]\n",
    "    S = S if isinstance(S, Sequence) else [S]\n",
    "    C_f = C_f if isinstance(C_f, Sequence) else [C_f]\n",
    "    \n",
    "    # ensure lengths of d, S, and C_f are consistent\n",
    "    assert (len(d) == len(S) == len(C_f)), \"The lengths of d, S, and C_f must be the same.\"\n",
    "    \n",
    "    # calculate the days staying such that d_i <= S_i\n",
    "    max_days_staying = [min(d_i, S_i) for d_i, S_i in zip(d, S)]\n",
    "\n",
    "    # calculate total days of travel\n",
    "    total_days_travel = sum(max_days_staying)\n",
    "\n",
    "    # check total > 0\n",
    "    assert total_days_travel > 0, \"Total days of travel must be greater than zero.\"\n",
    "    \n",
    "    # compute the weighted sum of C_f\n",
    "    weighted_C_f = sum((max_days_staying[i] / total_days_travel) * c for i, c in enumerate(C_f))\n",
    "\n",
    "    # calculate wealth remaining after expenses\n",
    "    remaining_wealth = ((1 - p ) * W)\n",
    "    \n",
    "    # calculate the first term inside the min function\n",
    "    N_foreign = remaining_wealth / weighted_C_f\n",
    "    \n",
    "    # calculate the second term inside the min function\n",
    "    N_limit = sum(S_i / 30.4375 for S_i in S)\n",
    "    \n",
    "    # calculate the result of the min function\n",
    "    N_min = min(N_foreign, N_limit)\n",
    "\n",
    "    # calculate months for remainder of wealth after travel\n",
    "    N_remainder = (remaining_wealth - (N_min * weighted_C_f)) / C_d\n",
    "\n",
    "    # calculate months in home country\n",
    "    N_domestic = W / C_d\n",
    "    \n",
    "    # calculate the final result\n",
    "    delta_N_value = N_min + N_remainder - N_domestic\n",
    "    \n",
    "    return delta_N_value\n",
    "\n",
    "def absolute_objective_function(*args, **kwargs):\n",
    "    \"\"\"Calculate absolute value for objective function.\"\"\"\n",
    "    return abs(calculate_delta_n(*args, **kwargs))"
   ]
  },
  {
   "cell_type": "code",
   "execution_count": null,
   "id": "49772fd1-1a47-413f-b41a-d5c47559a78b",
   "metadata": {
    "editable": true,
    "execution": {
     "iopub.execute_input": "2024-06-11T20:06:32.738876Z",
     "iopub.status.busy": "2024-06-11T20:06:32.738634Z",
     "iopub.status.idle": "2024-06-11T20:06:33.241018Z",
     "shell.execute_reply": "2024-06-11T20:06:33.240315Z"
    },
    "slideshow": {
     "slide_type": ""
    },
    "tags": [
     "remove_input"
    ]
   },
   "outputs": [],
   "source": [
    "# get optimization libs\n",
    "import numpy as np\n",
    "from scipy.optimize import minimize\n",
    "\n",
    "# set values\n",
    "average_US_savings = 62000\n",
    "average_US_col = col_data[col_data[\"country\"] == \"United States\"][\"col_usd\"].values[0]\n",
    "average_BR_col = col_data[col_data[\"country\"] == \"Brazil\"][\"col_usd\"].values[0]\n",
    "\n",
    "# generate p values\n",
    "p_values = np.arange(0, 1 + 0.01, 0.01)\n",
    "\n",
    "# loop over various visa lengths\n",
    "for i, guess in zip(range(0, 4), (0.25, 0.55, 0.7, 0.7)):\n",
    "    # calculate visa in days\n",
    "    visa_days = (2 ** i) * 365\n",
    "\n",
    "    # get the delta_N values\n",
    "    delta_n_values = np.array(\n",
    "        [\n",
    "            calculate_delta_n(p, average_US_savings, visa_days, visa_days, average_BR_col, average_US_col)\n",
    "            for p in p_values\n",
    "        ]\n",
    "    )\n",
    "    \n",
    "    # plotting the data\n",
    "    plt.plot(p_values, delta_n_values, label=f\"{2 ** i} year\")\n",
    "\n",
    "    # find the value of p that minimizes the absolute value of the objective function\n",
    "    result = minimize(\n",
    "        absolute_objective_function,\n",
    "        guess,\n",
    "        args=(average_US_savings, visa_days, visa_days, average_BR_col, average_US_col),\n",
    "    )\n",
    "    \n",
    "    # extract the optimal point as x/y pair\n",
    "    threshold_x = result.x[0]\n",
    "    threshold_y = calculate_delta_n(\n",
    "        threshold_x, \n",
    "        average_US_savings,\n",
    "        visa_days,\n",
    "        visa_days,\n",
    "        average_BR_col,\n",
    "        average_US_col\n",
    "    )\n",
    "\n",
    "    # plot threshold point\n",
    "    plt.plot(\n",
    "        threshold_x, \n",
    "        threshold_y,\n",
    "        marker=\"o\",\n",
    "        markersize=7,\n",
    "        color=\"green\"\n",
    "    )\n",
    "\n",
    "    # plot threshold vertical line\n",
    "    threshold_line = plt.axvline(x=threshold_x, linestyle='--', color=\"green\")\n",
    "\n",
    "# adding labels and title\n",
    "plt.xlabel(\"% Wealth (p)\")\n",
    "plt.ylabel(\"Additional Months (ΔN)\")\n",
    "\n",
    "# add x-axis\n",
    "plt.axhline(y=0, linestyle='--', color=\"black\", label=\"x-axis\")\n",
    "\n",
    "# label thresholds\n",
    "threshold_line.set_label(\"Advantage Threshold\")\n",
    "\n",
    "# set title\n",
    "plt.suptitle(\n",
    "    f\"Figure {fig_count}. Average U.S. Citizen in Brazil with Long-Term Visa\", y=0.0001, fontsize=10\n",
    ")\n",
    "\n",
    "# increment fig count\n",
    "fig_count += 1\n",
    "\n",
    "# displaying the plot\n",
    "plt.legend()\n",
    "plt.show()"
   ]
  },
  {
   "cell_type": "markdown",
   "id": "245dfd58-ceea-4e7d-92c2-59aa435ce92a",
   "metadata": {},
   "source": [
    "*Figure 2* shows some interesting results. Naturally it makes sense that as the *visa duration* $N_{limit}$ increases from $1$ to $8$ years, the *additional months* $\\Delta{N}$ gained increases (because you are not *limited* by the *visa's duration* and can buy more time at a lower $C_f$ in the *foreign country*). But what is the nature of the strange *\"angle\"* or *\"kink\"* in each line? As it turns out, everything *preceeding* this *\"kink\"* is the result of the *remaining wealth* $(1 - p)W$ **exceeding** $N_{limit}$:\n",
    "\n",
    "$$\n",
    "(1 - p)W > N_{limit}\n",
    "$$\n",
    "\n",
    "Naturally, everything to the right of this *\"kink\"* is the result of the remaining wealth being **less** than $N_{limit}$:\n",
    "\n",
    "$$\n",
    "(1 - p)W < N_{limit}\n",
    "$$\n",
    "\n",
    "As $N_{limit}$ increases from $1 - 8$ years, we see the kink shift to the left. Why? Again, because more and more of your *remaining wealth* $(1 - p)W$ can be used to buy *more months* $N$.\n",
    "\n",
    "\n",
    "Another *key insight* worth pointing out is that everything *below* the x-axis (i.e. when $\\Delta{N} \\lt 0$) is no longer *favorable*. Why? Because the `% wealth` $pW$ you set aside for *travel* $T$, *visa* $V$, *investment* $I$, and any other costs, leaves a *remaining wealth* $(1 - p)W$ that buys *less months* $N$ than if you stayed in your *home country* (in this case the *U.S.*). To put it more clearly:\n",
    "\n",
    "$$\n",
    "N_{foreign} + N_{remainder} < N_{domestic}\n",
    "$$\n",
    "\n",
    "Finally, why does the *\"break even\"* point shift to the right as the *visa duration* increases from $1$, $2$, $4$, and $8$? Keep in mind that the equation accounts for the $N_{remainder}$ which is the amount of months that can be purchased with any wealth remaining after *leaving* the foreign country and returning home. So what we are seeing is, that as the *visa duration* increases, and you are legally allowed to reside in the *foreign country* for longer time, you can purchase *the same amount* of months for a *smaller percent* of your wealth. Or to put it another way, the fraction of wealth $p$ set aside for the various costs ($T$, $V$, $I$, etc ...), can increase:\n",
    "\n",
    "$$\n",
    "\\begin{align*}\n",
    "    \\Delta{N}_8 &= \\Delta{N}_4 = \\Delta{N}_2 = \\Delta{N}_1 = N_{foreign} + N_{remainder} - N_{domestic} = 0 \\\\\n",
    "    (1 - p_8) &= (1 - p_4) < (1 - p_2) < (1 - p_1) \\\\\n",
    "    p_8 &= p_4 > p_2 > p_1\n",
    "\\end{align*}\n",
    "$$\n",
    "\n",
    "Notice that the *\"break even\"* point for both the $4$ and $8$ year visa is the same. Why? Because they are *both under* their max visa duration:\n",
    "\n",
    "$$\n",
    "\\frac{(1 - p)W}{C_f} < N_{limit}\n",
    "$$\n",
    "\n",
    "And when this happens the equation simplifies to:\n",
    "\n",
    "$$\n",
    "\\begin{align*}\n",
    "    \\frac{(1 - p)W}{C_{f}} + \\frac{(1 - p)W - \\frac{(1 - p)W}{C_{f}}C_f}{C_d} &- \\frac{W}{C_{d}} \\\\\n",
    "    \\frac{(1 - p)W}{C_{f}} + \\frac{0}{C_d} &- \\frac{W}{C_{d}} \\\\\n",
    "    \\frac{(1 - p)W}{C_{f}} &- \\frac{W}{C_{d}}\n",
    "\\end{align*}\n",
    "$$\n",
    "\n",
    "With the visa duration $N_{limit}$ no longer in the equation, the results of the $4$ and $8$ year visas are the same.\n",
    "\n",
    "All of this is to state a very simple fact: the more time you can spend under the *lower cost of living* $C_f$ the more wealth $pW$ you can use on any and all costs, and the less *remaining wealth* $(1 - p)W$ you need to maintain the minimum months of wealth (i.e. $\\Delta{N} = N_{domestic}$)."
   ]
  },
  {
   "cell_type": "markdown",
   "id": "069a2096-1d45-44e8-b794-97ef0bdd9560",
   "metadata": {},
   "source": [
    "## Short-Term Visa Strategies\n",
    "The *short-term* visas are usually measured in *days* (e.g. $30$, $60$, $90$), and the main difference between the two *strategies* is that for the short-term strategy we want to *combine* multiple countries (their $C_f$ and $T$, $V$, $I$, costs) together to take advantage of possible *advantageous combinations*:\n",
    "\n",
    "$$\n",
    "\\begin{align*}\n",
    "    N_{limit} &= \\sum_{i=1}^n \\frac{S_i}{30.4375} \\\\\n",
    "    D_{total} &= \\sum_{i=1}^n \\min\\left(d_i, S_i\\right) \\\\\n",
    "    C_f &= \\sum_{i=1}^n \\frac{\\min\\left(d_i, S_i\\right)}{D_{total}}C_i \\\\\n",
    "    pW &= \\sum_{i=1}^n T_i + V_i + I_i\n",
    "\\end{align*}\n",
    "$$\n",
    "\n",
    "Here $S_i$ is the *max visa days*, $d_i$ is the *days chosen* to stay in the country such that $d_i <= S_i$, $D_{total}$ is the total days of residing in *all countries*, and $T_i$, $V_i$, and $I_i$ are the necessary costs, all for the *i-th* country out of $n$ total countries that will be visited for $d_i$ days."
   ]
  },
  {
   "cell_type": "markdown",
   "id": "f314bc77-f026-4d9b-8c1c-d451f80bd8dd",
   "metadata": {},
   "source": [
    "## The South America Tour\n",
    "Let us now apply the *short-term* strategy to South America, where instead of traveling *only* to Brazil we will stay in multiple countries for the *max visa days* $S_i$ in each."
   ]
  },
  {
   "cell_type": "code",
   "execution_count": null,
   "id": "f186b5d4-769b-48a1-bac6-e771171db49d",
   "metadata": {
    "editable": true,
    "execution": {
     "iopub.execute_input": "2024-06-11T20:06:33.246351Z",
     "iopub.status.busy": "2024-06-11T20:06:33.246090Z",
     "iopub.status.idle": "2024-06-11T20:06:34.766223Z",
     "shell.execute_reply": "2024-06-11T20:06:34.765121Z"
    },
    "slideshow": {
     "slide_type": ""
    },
    "tags": [
     "remove_input"
    ]
   },
   "outputs": [],
   "source": [
    "# create map from country name to ISO2 name\n",
    "south_american_countries_iso2 = {\n",
    "    \"Argentina\": \"AR\", \n",
    "    \"Bolivia\": \"BO\", \n",
    "    \"Brazil\": \"BR\", \n",
    "    \"Chile\": \"CL\", \n",
    "    \"Colombia\": \"CO\", \n",
    "    \"Ecuador\": \"EC\", \n",
    "    \"Guyana\": \"GY\", \n",
    "    \"Paraguay\": \"PY\", \n",
    "    \"Peru\": \"PE\", \n",
    "    \"Suriname\": \"SR\", \n",
    "    \"Uruguay\": \"UY\", \n",
    "    \"Venezuela\": \"VE\"\n",
    "}\n",
    "\n",
    "# get passport data\n",
    "passport_data = (\n",
    "    pd.read_csv(\n",
    "    \"https://gist.githubusercontent.com/DiogenesAnalytics/c0b0cb5b6269b234302ad6bf8810531c/raw/6d909afc842e3bf039f7f1bd3064595b3642e4d4/passport-index-matrix-iso2_522919_31052024.csv\",\n",
    "    dtype=str\n",
    "    )\n",
    "    .fillna(\"NA\")\n",
    ")"
   ]
  },
  {
   "cell_type": "code",
   "execution_count": null,
   "id": "47b9bc99-a9fc-4972-942f-73f9b6e15b35",
   "metadata": {
    "editable": true,
    "execution": {
     "iopub.execute_input": "2024-06-11T20:06:34.772006Z",
     "iopub.status.busy": "2024-06-11T20:06:34.771513Z",
     "iopub.status.idle": "2024-06-11T20:06:34.792024Z",
     "shell.execute_reply": "2024-06-11T20:06:34.790572Z"
    },
    "slideshow": {
     "slide_type": ""
    },
    "tags": [
     "remove_input"
    ]
   },
   "outputs": [],
   "source": [
    "# create pointer to US passport holder\n",
    "us_passport = passport_data[passport_data[\"Passport\"] == \"US\"]\n",
    "\n",
    "# filter sa countries that do not have their days listed\n",
    "target_sa_countries = {\n",
    "    country: code\n",
    "    for country, code in south_american_countries_iso2.items()\n",
    "    if \"visa\" not in us_passport[code].values[0]\n",
    "}\n",
    "\n",
    "# creating the C_f and S sequences for all south american countries\n",
    "C_f_sa_trip, S_sa_trip = zip(*(\n",
    "    (col_data[col_data[\"country\"] == country][\"col_usd\"].values[0], int(us_passport[code].values[0]))\n",
    "    for country, code in target_sa_countries.items()\n",
    "))"
   ]
  },
  {
   "cell_type": "code",
   "execution_count": null,
   "id": "ed9fdcd3-d467-4872-9787-aa35bfd49703",
   "metadata": {
    "editable": true,
    "execution": {
     "iopub.execute_input": "2024-06-11T20:06:34.797845Z",
     "iopub.status.busy": "2024-06-11T20:06:34.797322Z",
     "iopub.status.idle": "2024-06-11T20:06:34.817679Z",
     "shell.execute_reply": "2024-06-11T20:06:34.816412Z"
    },
    "slideshow": {
     "slide_type": ""
    },
    "tags": [
     "remove_input"
    ]
   },
   "outputs": [],
   "source": [
    "# get total days from max visa stay\n",
    "sa_trip_total_days = sum(S_sa_trip)\n",
    "\n",
    "# now create list of weighted C_f values\n",
    "weighted_C_f_values = {\n",
    "    value: c * (s / sa_trip_total_days)\n",
    "    for (c, s, value) in zip(C_f_sa_trip, S_sa_trip, target_sa_countries.values())\n",
    "}\n",
    "\n",
    "# create new map of only target countries\n",
    "sa_tour_map = south_america[south_america[\"ISO_A2\"].isin(weighted_C_f_values.keys())].copy()\n",
    "\n",
    "# add cost of living data\n",
    "sa_tour_map[\"COL\"] = sa_tour_map[\"ISO_A2\"].map(weighted_C_f_values)"
   ]
  },
  {
   "cell_type": "code",
   "execution_count": null,
   "id": "8579d740-0812-4ac3-b119-5f6e97bf2d40",
   "metadata": {
    "editable": true,
    "execution": {
     "iopub.execute_input": "2024-06-11T20:06:34.823447Z",
     "iopub.status.busy": "2024-06-11T20:06:34.822950Z",
     "iopub.status.idle": "2024-06-11T20:06:35.330549Z",
     "shell.execute_reply": "2024-06-11T20:06:35.329529Z"
    },
    "slideshow": {
     "slide_type": ""
    },
    "tags": [
     "remove_input"
    ]
   },
   "outputs": [],
   "source": [
    "# get subplot for South America\n",
    "fig, ax = plt.subplots(figsize=(6, 6))\n",
    "\n",
    "# set the view for only the mainland\n",
    "ax.set_xlim([-85, -30])\n",
    "ax.set_ylim([-60, 15])\n",
    "\n",
    "# turn off axes for the South America plot only\n",
    "ax.axis(\"off\")\n",
    "\n",
    "# set title\n",
    "plt.suptitle(\n",
    "    f\"Figure {fig_count}. Cost of Living Choropleth Map of South America Tour\", y=0.0001, fontsize=10,\n",
    ")\n",
    "\n",
    "# adjust padding\n",
    "plt.tight_layout(pad=0.5)  \n",
    "\n",
    "# increment fig count\n",
    "fig_count += 1\n",
    "\n",
    "# plot all countries with darkish grey color\n",
    "south_america.plot(\n",
    "    ax=ax,\n",
    "    color=\"grey\",\n",
    "    edgecolor=\"#181818\",\n",
    "    linewidth=0.1,\n",
    ");\n",
    "\n",
    "# plot Brazil with a disfferent color\n",
    "sa_tour_map.plot(\n",
    "    ax=ax,\n",
    "    cmap=\"viridis\",\n",
    "    column=\"COL\",\n",
    "    edgecolor=\"#181818\",\n",
    "    legend=True,\n",
    "    legend_kwds={\"label\": \"Weighted Cost of Living (USD)\", \"orientation\": \"vertical\"},\n",
    ");"
   ]
  },
  {
   "cell_type": "code",
   "execution_count": null,
   "id": "2dc88fe8-e50d-4efe-a376-446670aad685",
   "metadata": {
    "editable": true,
    "execution": {
     "iopub.execute_input": "2024-06-11T20:06:35.335247Z",
     "iopub.status.busy": "2024-06-11T20:06:35.334974Z",
     "iopub.status.idle": "2024-06-11T20:06:35.541785Z",
     "shell.execute_reply": "2024-06-11T20:06:35.541037Z"
    },
    "slideshow": {
     "slide_type": ""
    },
    "tags": [
     "remove_input"
    ]
   },
   "outputs": [],
   "source": [
    "# find the value of p that minimizes the absolute value of the objective function\n",
    "result = minimize(\n",
    "    absolute_objective_function,\n",
    "    0.5,\n",
    "    args=(average_US_savings, S_sa_trip, S_sa_trip, C_f_sa_trip, average_US_col),\n",
    ")\n",
    "\n",
    "# Extract the optimal value of x\n",
    "threshold_p = result.x[0]\n",
    "\n",
    "# get the delta_N values\n",
    "delta_n_values = np.array(\n",
    "    [\n",
    "        calculate_delta_n(p, average_US_savings, S_sa_trip, S_sa_trip, C_f_sa_trip, average_US_col)\n",
    "        for p in p_values\n",
    "    ]\n",
    ")\n",
    "\n",
    "# plotting the data\n",
    "plt.plot(p_values, delta_n_values)\n",
    "\n",
    "# plot threshold p value\n",
    "plt.axvline(x=threshold_p, color='green', linestyle='--', label='Advantage Threshold')\n",
    "\n",
    "# adding labels and title\n",
    "plt.xlabel(\"% Wealth (p)\")\n",
    "plt.ylabel(\"Additional Months (ΔN)\")\n",
    "\n",
    "# set title\n",
    "plt.suptitle(\n",
    "    f\"Figure {fig_count}. Average U.S. Citizen in South America with Short-Term Visa\", y=0.0001, fontsize=10\n",
    ")\n",
    "\n",
    "# increment fig count\n",
    "fig_count += 1\n",
    "\n",
    "# displaying the plot\n",
    "plt.legend()\n",
    "plt.show()"
   ]
  },
  {
   "cell_type": "markdown",
   "id": "3fa11815-3b75-409f-9905-0f41d981d048",
   "metadata": {},
   "source": [
    "*Figure 3* gives us a sense of the *weight* of each country's *cost of living* for this trip (where the *lighter* the color the more weight that country's cost of living has in the $C_f$ value). Again this is a result of the way we calculate $C_f$:\n",
    "\n",
    "$$\n",
    "C_f = \\sum_{i=1}^n \\frac{\\min\\left(d_i, S_i\\right)}{D_{total}}C_i\n",
    "$$\n",
    "\n",
    "*Figure 4* shows us that, *worse case scenario*, the *average U.S. citizen* could spend $60\\%$ (i.e. $0.60W$) of their wealth (in this case the *average U.S. savings*) on this tour, and you would have the same amount of *wealth time* $N$ as you would had you stayed in the *U.S.*:\n",
    "\n",
    "$$\n",
    "N_{foreign} + N_{remainder} = N_{domestic}\n",
    "$$\n",
    "\n",
    "This is quite an interesting result, as it also means the *average U.S. citizen* only needs $40\\%$ of their wealth to maintain the same amount of wealth time (in months $N$) as you would in the *domestic country*:\n",
    "\n",
    "$$\n",
    "\\frac{0.40W}{C_f} = \\frac{W}{C_d}\n",
    "$$"
   ]
  },
  {
   "cell_type": "markdown",
   "id": "33675b6f-5cb6-40b4-8287-3a2980fb09dd",
   "metadata": {},
   "source": [
    "## Moral\n",
    "Once a method for calculating the *advantage* (in this case the $\\Delta{N}$ value) is defined, it becomes possible to see the truth about whatever may be the *target* of the calculation. Here, we have been able to investigate the *additional months* $\\Delta{N}$ gained by partitioning your wealth $W$ into a *travel* partition $pW$ and a *cost of living* partition $(1 - p)W$. What we can confidently state, is that there are combinations of $N_{limit}$, and $p$, that lead to significantly *favorable* outcomes (e.g. $\\sim 3$ x increase with $\\frac{N_{foreign}}{N_{domestic}}$ in the case of the *Brazil long-term* $8$ year visa). Further investigations into possible *short-term* strategies, whereby certain countries are selected due to their *low cost of living* $C_f$ and their relative proximity to each other, may hold significant *potential advantage*."
   ]
  }
 ],
 "metadata": {
  "kernelspec": {
   "display_name": "Python 3 (ipykernel)",
   "language": "python",
   "name": "python3"
  },
  "language_info": {
   "codemirror_mode": {
    "name": "ipython",
    "version": 3
   },
   "file_extension": ".py",
   "mimetype": "text/x-python",
   "name": "python",
   "nbconvert_exporter": "python",
   "pygments_lexer": "ipython3",
   "version": "3.11.8"
  }
 },
 "nbformat": 4,
 "nbformat_minor": 5
}
