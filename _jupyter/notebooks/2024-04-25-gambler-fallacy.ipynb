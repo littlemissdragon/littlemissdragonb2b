{
 "cells": [
  {
   "cell_type": "raw",
   "id": "b793442c-b59c-45d6-982d-594d88440293",
   "metadata": {},
   "source": [
    "---\n",
    "layout: article\n",
    "title: Gambler's Fallacy - A Problem Ill-defined\n",
    "custom_css: article.css\n",
    "include_mathjax: true\n",
    "---"
   ]
  },
  {
   "cell_type": "markdown",
   "id": "523b10b5-110a-4961-8bac-db959610071b",
   "metadata": {},
   "source": [
    "## Monte Carlo\n",
    "The origins of the [Gambler's Fallacy](https://en.wikipedia.org/wiki/Gambler%27s_fallacy) comes from a famous story about a *[roulette](https://en.wikipedia.org/wiki/Roulette)* streak in the [Monte Carlo](https://en.wikipedia.org/wiki/Monte_Carlo_Casino) casino. Basically the streak was *sequential black* on 26 spins of the roulette wheel. As the streak continued, more people began betting. But what is *fallacious* about this behavior?"
   ]
  },
  {
   "cell_type": "markdown",
   "id": "14dae128-bdad-4f16-924b-86ff5bf8acb1",
   "metadata": {},
   "source": [
    "## The Problem\n",
    "The mistake in the *Gambler's Fallacy* is simply a misunderstanding of the problem. Since every spin of the wheel is *independent* then the past states (read `R` or black `B`) do not affect the future. In mathematical terms:\n",
    "\n",
    "$$\n",
    "P\\left(\\bigcap_{i=1}^{n} p_i\\right) = \\prod_{i=1}^{n} P(p_i)\n",
    "$$\n",
    "\n",
    "Basically $P$ represents the *streak probability* and $p_i$ represents the probability of either `R` or `B` (which each have probability of $\\frac{1}{2}$). So then the question of *predicting* the probability of the *27th* spin of the wheel is simply the same for either `R` or `B`:\n",
    "\n",
    "$$\n",
    "\\begin{align}\n",
    "\\text{P(BBBBBBBBBBBBBBBBBBBBBBBBBBB)} &= \\frac{1}{2^{27}} \\\\\n",
    "\\text{P(BBBBBBBBBBBBBBBBBBBBBBBBBBR)} &= \\frac{1}{2^{27}}\n",
    "\\end{align}\n",
    "$$\n",
    "\n",
    "Instead what patrons of the *Monte Carlo Casino* were *intuitively* aware of is how **rare** getting a streak of pure `B` is in comparison to getting a *non-pure* combination (i.e. at least one `R` or one `B` in a streak of 27):\n",
    "\n",
    "$$\n",
    "\\begin{align}\n",
    "P(\\neg (R_{27} \\cup B_{27})) &= 1 - P(R_{27} \\cup B_{27}) \\\\\n",
    "&= 1 - \\frac{2}{2^{27}} \\\\\n",
    "&= 0.9999999850988388\n",
    "\\end{align}\n",
    "$$\n",
    "\n",
    "But still a *pure streak* (all `R` or all `B`) while rare, does not change the probability of the next spin being *either* `R` or `B`."
   ]
  },
  {
   "cell_type": "markdown",
   "id": "2e8b0748-1e61-4766-a34c-f02fbc8cb3a6",
   "metadata": {},
   "source": [
    "## Moral\n",
    "When thinking about a problem it is extremely easy to misunderstand the *context* or *setup* of the problem, and instead frame the problem as a *different problem*. In this example, the patrons of the *Monte Carlo Casino* failed to grasp that the problem is **NOT** the probability of getting a *non-pure* streak (any combination other than all `B` or all `R`) but rather a simple *coin toss* (i.e. $P(\\text{H}) = P(\\text{T}) = \\frac{1}{2}$)."
   ]
  }
 ],
 "metadata": {
  "kernelspec": {
   "display_name": "Python 3 (ipykernel)",
   "language": "python",
   "name": "python3"
  },
  "language_info": {
   "codemirror_mode": {
    "name": "ipython",
    "version": 3
   },
   "file_extension": ".py",
   "mimetype": "text/x-python",
   "name": "python",
   "nbconvert_exporter": "python",
   "pygments_lexer": "ipython3",
   "version": "3.11.8"
  }
 },
 "nbformat": 4,
 "nbformat_minor": 5
}
